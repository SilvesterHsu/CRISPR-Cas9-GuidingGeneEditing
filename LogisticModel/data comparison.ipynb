{
 "cells": [
  {
   "cell_type": "markdown",
   "metadata": {},
   "source": [
    "# Data comparison"
   ]
  },
  {
   "cell_type": "code",
   "execution_count": 1,
   "metadata": {},
   "outputs": [],
   "source": [
    "import pandas as pd\n",
    "import matplotlib.pyplot as plt\n",
    "import numpy as np"
   ]
  },
  {
   "cell_type": "code",
   "execution_count": 2,
   "metadata": {},
   "outputs": [],
   "source": [
    "loc_data = pd.read_csv(\"danrer11_guide_results.txt\", sep=\"\\t\",usecols=[\"GUIDE\",\"qPCR\"])"
   ]
  },
  {
   "cell_type": "code",
   "execution_count": 3,
   "metadata": {},
   "outputs": [
    {
     "name": "stderr",
     "output_type": "stream",
     "text": [
      "D:\\download\\Anaconda3\\lib\\site-packages\\ipykernel_launcher.py:1: MatplotlibDeprecationWarning: \n",
      "The 'normed' kwarg was deprecated in Matplotlib 2.1 and will be removed in 3.1. Use 'density' instead.\n",
      "  \"\"\"Entry point for launching an IPython kernel.\n"
     ]
    },
    {
     "data": {
      "text/plain": [
       "Text(0.5, 1.0, 'Distribution of qPCR')"
      ]
     },
     "execution_count": 3,
     "metadata": {},
     "output_type": "execute_result"
    },
    {
     "data": {
      "image/png": "[encoded data removed]",
      "text/plain": [
       "<Figure size 432x288 with 1 Axes>"
      ]
     },
     "metadata": {
      "needs_background": "light"
     },
     "output_type": "display_data"
    }
   ],
   "source": [
    "plt.hist(loc_data['qPCR'], bins=20, normed=0, facecolor=\"green\", edgecolor=\"black\", alpha=0.4)\n",
    "plt.title('Distribution of qPCR')"
   ]
  },
  {
   "cell_type": "code",
   "execution_count": 3,
   "metadata": {},
   "outputs": [],
   "source": [
    "data_train = pd.read_csv('data/danrer11_chopchop_train.csv',index_col=0)\n",
    "data_test = pd.read_csv('data/danrer11_chopchop_test.csv',index_col=0)\n",
    "frames = [data_train,data_test]\n",
    "result = pd.concat(frames)"
   ]
  },
  {
   "cell_type": "code",
   "execution_count": 118,
   "metadata": {},
   "outputs": [
    {
     "name": "stderr",
     "output_type": "stream",
     "text": [
      "D:\\download\\Anaconda3\\lib\\site-packages\\ipykernel_launcher.py:1: MatplotlibDeprecationWarning: \n",
      "The 'normed' kwarg was deprecated in Matplotlib 2.1 and will be removed in 3.1. Use 'density' instead.\n",
      "  \"\"\"Entry point for launching an IPython kernel.\n"
     ]
    },
    {
     "data": {
      "text/plain": [
       "Text(0.5, 1.0, 'Distribution of EFFICIENCY')"
      ]
     },
     "execution_count": 118,
     "metadata": {},
     "output_type": "execute_result"
    },
    {
     "data": {
      "image/png": "[encoded data removed]",
      "text/plain": [
       "<Figure size 432x288 with 1 Axes>"
      ]
     },
     "metadata": {
      "needs_background": "light"
     },
     "output_type": "display_data"
    }
   ],
   "source": [
    "plt.hist(result['EFFICIENCY'], bins=40, normed=0, facecolor=\"green\", edgecolor=\"black\", alpha=0.4)\n",
    "plt.title('Distribution of EFFICIENCY')"
   ]
  },
  {
   "cell_type": "code",
   "execution_count": 104,
   "metadata": {},
   "outputs": [
    {
     "data": {
      "text/html": [
       "<div>\n",
       "<style scoped>\n",
       "    .dataframe tbody tr th:only-of-type {\n",
       "        vertical-align: middle;\n",
       "    }\n",
       "\n",
       "    .dataframe tbody tr th {\n",
       "        vertical-align: top;\n",
       "    }\n",
       "\n",
       "    .dataframe thead th {\n",
       "        text-align: right;\n",
       "    }\n",
       "</style>\n",
       "<table border=\"1\" class=\"dataframe\">\n",
       "  <thead>\n",
       "    <tr style=\"text-align: right;\">\n",
       "      <th></th>\n",
       "      <th>qPCR</th>\n",
       "    </tr>\n",
       "  </thead>\n",
       "  <tbody>\n",
       "    <tr>\n",
       "      <th>count</th>\n",
       "      <td>63.000000</td>\n",
       "    </tr>\n",
       "    <tr>\n",
       "      <th>mean</th>\n",
       "      <td>0.411760</td>\n",
       "    </tr>\n",
       "    <tr>\n",
       "      <th>std</th>\n",
       "      <td>1.761681</td>\n",
       "    </tr>\n",
       "    <tr>\n",
       "      <th>min</th>\n",
       "      <td>-2.290000</td>\n",
       "    </tr>\n",
       "    <tr>\n",
       "      <th>25%</th>\n",
       "      <td>-0.476091</td>\n",
       "    </tr>\n",
       "    <tr>\n",
       "      <th>50%</th>\n",
       "      <td>0.090000</td>\n",
       "    </tr>\n",
       "    <tr>\n",
       "      <th>75%</th>\n",
       "      <td>0.872331</td>\n",
       "    </tr>\n",
       "    <tr>\n",
       "      <th>max</th>\n",
       "      <td>6.627324</td>\n",
       "    </tr>\n",
       "  </tbody>\n",
       "</table>\n",
       "</div>"
      ],
      "text/plain": [
       "            qPCR\n",
       "count  63.000000\n",
       "mean    0.411760\n",
       "std     1.761681\n",
       "min    -2.290000\n",
       "25%    -0.476091\n",
       "50%     0.090000\n",
       "75%     0.872331\n",
       "max     6.627324"
      ]
     },
     "execution_count": 104,
     "metadata": {},
     "output_type": "execute_result"
    }
   ],
   "source": [
    "loc_data.describe()"
   ]
  },
  {
   "cell_type": "code",
   "execution_count": 72,
   "metadata": {
    "scrolled": true
   },
   "outputs": [],
   "source": []
  },
  {
   "cell_type": "code",
   "execution_count": 74,
   "metadata": {},
   "outputs": [],
   "source": [
    "right = result[['GUIDE','EFFICIENCY']]\n",
    "compare = pd.merge(loc_data, right, on='GUIDE')\n",
    "compare['EFFICIENCY'] = compare['EFFICIENCY']/100\n",
    "compare['diff'] = compare['qPCR']-compare['EFFICIENCY']"
   ]
  },
  {
   "cell_type": "code",
   "execution_count": 77,
   "metadata": {},
   "outputs": [],
   "source": []
  },
  {
   "cell_type": "code",
   "execution_count": 79,
   "metadata": {},
   "outputs": [
    {
     "data": {
      "text/plain": [
       "5.618770697902599"
      ]
     },
     "execution_count": 79,
     "metadata": {},
     "output_type": "execute_result"
    }
   ],
   "source": []
  },
  {
   "cell_type": "markdown",
   "metadata": {},
   "source": [
    "scale the qPCR data using max-min"
   ]
  },
  {
   "cell_type": "code",
   "execution_count": 81,
   "metadata": {},
   "outputs": [],
   "source": [
    "q_max = max(compare['qPCR'])\n",
    "q_min = min(compare['qPCR'])\n",
    "compare['scale_qPCR'] = (compare['qPCR']- q_min) / (q_max-q_min)"
   ]
  },
  {
   "cell_type": "code",
   "execution_count": 82,
   "metadata": {},
   "outputs": [],
   "source": [
    "compare['scale_diff'] = compare['scale_qPCR']-compare['EFFICIENCY']"
   ]
  },
  {
   "cell_type": "code",
   "execution_count": 117,
   "metadata": {
    "scrolled": true
   },
   "outputs": [
    {
     "name": "stderr",
     "output_type": "stream",
     "text": [
      "D:\\download\\Anaconda3\\lib\\site-packages\\ipykernel_launcher.py:1: MatplotlibDeprecationWarning: \n",
      "The 'normed' kwarg was deprecated in Matplotlib 2.1 and will be removed in 3.1. Use 'density' instead.\n",
      "  \"\"\"Entry point for launching an IPython kernel.\n"
     ]
    },
    {
     "data": {
      "text/plain": [
       "Text(0.5, 1.0, 'differences between scaled qPCR and EFFICIENCY')"
      ]
     },
     "execution_count": 117,
     "metadata": {},
     "output_type": "execute_result"
    },
    {
     "data": {
      "image/png": "[encoded data removed]",
      "text/plain": [
       "<Figure size 432x288 with 1 Axes>"
      ]
     },
     "metadata": {
      "needs_background": "light"
     },
     "output_type": "display_data"
    }
   ],
   "source": [
    "plt.hist(compare['scale_diff'], bins=20, normed=0, facecolor=\"green\", edgecolor=\"black\", alpha=0.4)\n",
    "plt.title('differences between scaled qPCR and EFFICIENCY')"
   ]
  },
  {
   "cell_type": "code",
   "execution_count": 84,
   "metadata": {},
   "outputs": [
    {
     "data": {
      "text/plain": [
       "0     0.584958\n",
       "1     0.908802\n",
       "2     0.597170\n",
       "3     0.264264\n",
       "4     0.322250\n",
       "5     0.391257\n",
       "6     0.282844\n",
       "7     0.823137\n",
       "8     0.424845\n",
       "9     0.597333\n",
       "10    0.490724\n",
       "11    0.453446\n",
       "12    0.182076\n",
       "13    0.000000\n",
       "14    0.289405\n",
       "15    0.495532\n",
       "16    0.408445\n",
       "17    0.203614\n",
       "18    0.121384\n",
       "19    1.000000\n",
       "20    0.836367\n",
       "21    0.341621\n",
       "Name: scale_qPCR, dtype: float64"
      ]
     },
     "execution_count": 84,
     "metadata": {},
     "output_type": "execute_result"
    }
   ],
   "source": [
    "compare['scale_qPCR']"
   ]
  },
  {
   "cell_type": "code",
   "execution_count": 92,
   "metadata": {
    "scrolled": true
   },
   "outputs": [
    {
     "data": {
      "text/html": [
       "<div>\n",
       "<style scoped>\n",
       "    .dataframe tbody tr th:only-of-type {\n",
       "        vertical-align: middle;\n",
       "    }\n",
       "\n",
       "    .dataframe tbody tr th {\n",
       "        vertical-align: top;\n",
       "    }\n",
       "\n",
       "    .dataframe thead th {\n",
       "        text-align: right;\n",
       "    }\n",
       "</style>\n",
       "<table border=\"1\" class=\"dataframe\">\n",
       "  <thead>\n",
       "    <tr style=\"text-align: right;\">\n",
       "      <th></th>\n",
       "      <th>GUIDE</th>\n",
       "      <th>qPCR</th>\n",
       "      <th>EFFICIENCY</th>\n",
       "      <th>diff</th>\n",
       "      <th>scale_qPCR</th>\n",
       "      <th>scale_diff</th>\n",
       "    </tr>\n",
       "  </thead>\n",
       "  <tbody>\n",
       "    <tr>\n",
       "      <th>0</th>\n",
       "      <td>GTGCCAAGTATAATGAGGAATGG</td>\n",
       "      <td>2.336301</td>\n",
       "      <td>0.4863</td>\n",
       "      <td>1.850001</td>\n",
       "      <td>0.584958</td>\n",
       "      <td>0.098658</td>\n",
       "    </tr>\n",
       "    <tr>\n",
       "      <th>1</th>\n",
       "      <td>TGTAGCATAGTCGTGTTTGGAGG</td>\n",
       "      <td>4.897509</td>\n",
       "      <td>0.5353</td>\n",
       "      <td>4.362209</td>\n",
       "      <td>0.908802</td>\n",
       "      <td>0.373502</td>\n",
       "    </tr>\n",
       "    <tr>\n",
       "      <th>2</th>\n",
       "      <td>CCAAGTGAGACTTCGGAAAAAGG</td>\n",
       "      <td>2.432883</td>\n",
       "      <td>0.3937</td>\n",
       "      <td>2.039183</td>\n",
       "      <td>0.597170</td>\n",
       "      <td>0.203470</td>\n",
       "    </tr>\n",
       "    <tr>\n",
       "      <th>3</th>\n",
       "      <td>AACAGAACTAATGCATTACGAGG</td>\n",
       "      <td>-0.200000</td>\n",
       "      <td>0.6904</td>\n",
       "      <td>-0.890400</td>\n",
       "      <td>0.264264</td>\n",
       "      <td>-0.426136</td>\n",
       "    </tr>\n",
       "    <tr>\n",
       "      <th>4</th>\n",
       "      <td>ACGGACAACTTTATTCACTCGGG</td>\n",
       "      <td>0.258600</td>\n",
       "      <td>0.5693</td>\n",
       "      <td>-0.310700</td>\n",
       "      <td>0.322250</td>\n",
       "      <td>-0.247050</td>\n",
       "    </tr>\n",
       "    <tr>\n",
       "      <th>5</th>\n",
       "      <td>TCGGATTTTAGGAGTGATTATGG</td>\n",
       "      <td>0.804362</td>\n",
       "      <td>0.3819</td>\n",
       "      <td>0.422462</td>\n",
       "      <td>0.391257</td>\n",
       "      <td>0.009357</td>\n",
       "    </tr>\n",
       "    <tr>\n",
       "      <th>6</th>\n",
       "      <td>CATTGGGTCTCGAGTCCCGGAGG</td>\n",
       "      <td>-0.053051</td>\n",
       "      <td>0.6600</td>\n",
       "      <td>-0.713051</td>\n",
       "      <td>0.282844</td>\n",
       "      <td>-0.377156</td>\n",
       "    </tr>\n",
       "    <tr>\n",
       "      <th>7</th>\n",
       "      <td>TGCGCGTGGGGAAGAAGCAGAGG</td>\n",
       "      <td>4.220000</td>\n",
       "      <td>0.6162</td>\n",
       "      <td>3.603800</td>\n",
       "      <td>0.823137</td>\n",
       "      <td>0.206937</td>\n",
       "    </tr>\n",
       "    <tr>\n",
       "      <th>8</th>\n",
       "      <td>CGCACTTTCGCCGTCTACTACGG</td>\n",
       "      <td>1.070000</td>\n",
       "      <td>0.3877</td>\n",
       "      <td>0.682300</td>\n",
       "      <td>0.424845</td>\n",
       "      <td>0.037145</td>\n",
       "    </tr>\n",
       "    <tr>\n",
       "      <th>9</th>\n",
       "      <td>CCTCCAGTCTGGAAACAACTGGG</td>\n",
       "      <td>2.434167</td>\n",
       "      <td>0.6234</td>\n",
       "      <td>1.810767</td>\n",
       "      <td>0.597333</td>\n",
       "      <td>-0.026067</td>\n",
       "    </tr>\n",
       "    <tr>\n",
       "      <th>10</th>\n",
       "      <td>GCGCACTTCAGTCACGCGTCCGG</td>\n",
       "      <td>1.591026</td>\n",
       "      <td>0.5777</td>\n",
       "      <td>1.013326</td>\n",
       "      <td>0.490724</td>\n",
       "      <td>-0.086976</td>\n",
       "    </tr>\n",
       "    <tr>\n",
       "      <th>11</th>\n",
       "      <td>GGTCACTATTTCTGTCGGCAAGG</td>\n",
       "      <td>1.296201</td>\n",
       "      <td>0.6221</td>\n",
       "      <td>0.674101</td>\n",
       "      <td>0.453446</td>\n",
       "      <td>-0.168654</td>\n",
       "    </tr>\n",
       "    <tr>\n",
       "      <th>12</th>\n",
       "      <td>AACTGGGCGTGCAGTGGCGTGGG</td>\n",
       "      <td>-0.850000</td>\n",
       "      <td>0.4876</td>\n",
       "      <td>-1.337600</td>\n",
       "      <td>0.182076</td>\n",
       "      <td>-0.305524</td>\n",
       "    </tr>\n",
       "    <tr>\n",
       "      <th>13</th>\n",
       "      <td>CGTTTGTGTAAACATTCAGGAGG</td>\n",
       "      <td>-2.290000</td>\n",
       "      <td>0.6427</td>\n",
       "      <td>-2.932700</td>\n",
       "      <td>0.000000</td>\n",
       "      <td>-0.642700</td>\n",
       "    </tr>\n",
       "    <tr>\n",
       "      <th>14</th>\n",
       "      <td>CTTCCAGTGGTAACCAGCGCTGG</td>\n",
       "      <td>-0.001163</td>\n",
       "      <td>0.4768</td>\n",
       "      <td>-0.477963</td>\n",
       "      <td>0.289405</td>\n",
       "      <td>-0.187395</td>\n",
       "    </tr>\n",
       "    <tr>\n",
       "      <th>15</th>\n",
       "      <td>CCTCGAGCAATGGTGTGCAGAGG</td>\n",
       "      <td>1.629048</td>\n",
       "      <td>0.6435</td>\n",
       "      <td>0.985548</td>\n",
       "      <td>0.495532</td>\n",
       "      <td>-0.147968</td>\n",
       "    </tr>\n",
       "    <tr>\n",
       "      <th>16</th>\n",
       "      <td>TTAGCCGGTCTTTATGTCAGTGG</td>\n",
       "      <td>0.940301</td>\n",
       "      <td>0.5212</td>\n",
       "      <td>0.419101</td>\n",
       "      <td>0.408445</td>\n",
       "      <td>-0.112755</td>\n",
       "    </tr>\n",
       "    <tr>\n",
       "      <th>17</th>\n",
       "      <td>AAGTCAGAGGTATAGTGGGATGG</td>\n",
       "      <td>-0.679667</td>\n",
       "      <td>0.5321</td>\n",
       "      <td>-1.211767</td>\n",
       "      <td>0.203614</td>\n",
       "      <td>-0.328486</td>\n",
       "    </tr>\n",
       "    <tr>\n",
       "      <th>18</th>\n",
       "      <td>TTGCGTAATCTTGTGAGAGTCGG</td>\n",
       "      <td>-1.330000</td>\n",
       "      <td>0.5978</td>\n",
       "      <td>-1.927800</td>\n",
       "      <td>0.121384</td>\n",
       "      <td>-0.476416</td>\n",
       "    </tr>\n",
       "    <tr>\n",
       "      <th>19</th>\n",
       "      <td>ATGACTTGACAGCGCACGCGCGG</td>\n",
       "      <td>5.618771</td>\n",
       "      <td>0.6009</td>\n",
       "      <td>5.017871</td>\n",
       "      <td>1.000000</td>\n",
       "      <td>0.399100</td>\n",
       "    </tr>\n",
       "    <tr>\n",
       "      <th>20</th>\n",
       "      <td>AGTTATACTAATAGGACGAAAGG</td>\n",
       "      <td>4.324634</td>\n",
       "      <td>0.5935</td>\n",
       "      <td>3.731134</td>\n",
       "      <td>0.836367</td>\n",
       "      <td>0.242867</td>\n",
       "    </tr>\n",
       "    <tr>\n",
       "      <th>21</th>\n",
       "      <td>ATCTGCCAGAGTTCGCGCGGTGG</td>\n",
       "      <td>0.411805</td>\n",
       "      <td>0.6065</td>\n",
       "      <td>-0.194695</td>\n",
       "      <td>0.341621</td>\n",
       "      <td>-0.264879</td>\n",
       "    </tr>\n",
       "  </tbody>\n",
       "</table>\n",
       "</div>"
      ],
      "text/plain": [
       "                      GUIDE      qPCR  EFFICIENCY      diff  scale_qPCR  \\\n",
       "0   GTGCCAAGTATAATGAGGAATGG  2.336301      0.4863  1.850001    0.584958   \n",
       "1   TGTAGCATAGTCGTGTTTGGAGG  4.897509      0.5353  4.362209    0.908802   \n",
       "2   CCAAGTGAGACTTCGGAAAAAGG  2.432883      0.3937  2.039183    0.597170   \n",
       "3   AACAGAACTAATGCATTACGAGG -0.200000      0.6904 -0.890400    0.264264   \n",
       "4   ACGGACAACTTTATTCACTCGGG  0.258600      0.5693 -0.310700    0.322250   \n",
       "5   TCGGATTTTAGGAGTGATTATGG  0.804362      0.3819  0.422462    0.391257   \n",
       "6   CATTGGGTCTCGAGTCCCGGAGG -0.053051      0.6600 -0.713051    0.282844   \n",
       "7   TGCGCGTGGGGAAGAAGCAGAGG  4.220000      0.6162  3.603800    0.823137   \n",
       "8   CGCACTTTCGCCGTCTACTACGG  1.070000      0.3877  0.682300    0.424845   \n",
       "9   CCTCCAGTCTGGAAACAACTGGG  2.434167      0.6234  1.810767    0.597333   \n",
       "10  GCGCACTTCAGTCACGCGTCCGG  1.591026      0.5777  1.013326    0.490724   \n",
       "11  GGTCACTATTTCTGTCGGCAAGG  1.296201      0.6221  0.674101    0.453446   \n",
       "12  AACTGGGCGTGCAGTGGCGTGGG -0.850000      0.4876 -1.337600    0.182076   \n",
       "13  CGTTTGTGTAAACATTCAGGAGG -2.290000      0.6427 -2.932700    0.000000   \n",
       "14  CTTCCAGTGGTAACCAGCGCTGG -0.001163      0.4768 -0.477963    0.289405   \n",
       "15  CCTCGAGCAATGGTGTGCAGAGG  1.629048      0.6435  0.985548    0.495532   \n",
       "16  TTAGCCGGTCTTTATGTCAGTGG  0.940301      0.5212  0.419101    0.408445   \n",
       "17  AAGTCAGAGGTATAGTGGGATGG -0.679667      0.5321 -1.211767    0.203614   \n",
       "18  TTGCGTAATCTTGTGAGAGTCGG -1.330000      0.5978 -1.927800    0.121384   \n",
       "19  ATGACTTGACAGCGCACGCGCGG  5.618771      0.6009  5.017871    1.000000   \n",
       "20  AGTTATACTAATAGGACGAAAGG  4.324634      0.5935  3.731134    0.836367   \n",
       "21  ATCTGCCAGAGTTCGCGCGGTGG  0.411805      0.6065 -0.194695    0.341621   \n",
       "\n",
       "    scale_diff  \n",
       "0     0.098658  \n",
       "1     0.373502  \n",
       "2     0.203470  \n",
       "3    -0.426136  \n",
       "4    -0.247050  \n",
       "5     0.009357  \n",
       "6    -0.377156  \n",
       "7     0.206937  \n",
       "8     0.037145  \n",
       "9    -0.026067  \n",
       "10   -0.086976  \n",
       "11   -0.168654  \n",
       "12   -0.305524  \n",
       "13   -0.642700  \n",
       "14   -0.187395  \n",
       "15   -0.147968  \n",
       "16   -0.112755  \n",
       "17   -0.328486  \n",
       "18   -0.476416  \n",
       "19    0.399100  \n",
       "20    0.242867  \n",
       "21   -0.264879  "
      ]
     },
     "execution_count": 92,
     "metadata": {},
     "output_type": "execute_result"
    }
   ],
   "source": [
    "compare"
   ]
  },
  {
   "cell_type": "code",
   "execution_count": 109,
   "metadata": {
    "scrolled": false
   },
   "outputs": [
    {
     "data": {
      "image/png": "[encoded data removed]",
      "text/plain": [
       "<Figure size 1080x576 with 1 Axes>"
      ]
     },
     "metadata": {
      "needs_background": "light"
     },
     "output_type": "display_data"
    }
   ],
   "source": [
    "\n",
    "N = len(compare)\n",
    "x = np.arange(0,N)\n",
    "y1 = compare['scale_qPCR']\n",
    "y2 =  compare['EFFICIENCY']\n",
    "y3 =  compare['qPCR']\n",
    "\n",
    "area = np.random.rand(N) * 100\n",
    "fig = plt.figure(figsize=(15,8))\n",
    "ax = plt.subplot()\n",
    "p3 = ax.scatter(x, y3, s=area, c='green', alpha=0.7)\n",
    "#c=area, cmap='Reds',\n",
    "p2 = ax.scatter(x, y2, s=area, c='red', marker='v', alpha=0.4)  # 更换标记样式，另一种颜色的样式\n",
    "p1 = ax.scatter(x, y1, s=area,c='purple', alpha=0.4)\n",
    "#plt.legend('y1')\n",
    "plt.legend([p3, p2, p1], ['qPCR', 'EFFICIENCY','scaled qPCR'], loc='upper right', scatterpoints=1)\n",
    "plt.show()\n"
   ]
  },
  {
   "cell_type": "code",
   "execution_count": 100,
   "metadata": {
    "scrolled": false
   },
   "outputs": [
    {
     "data": {
      "text/plain": [
       "(-0.031872488557814695, 0.8880246892421808)"
      ]
     },
     "execution_count": 100,
     "metadata": {},
     "output_type": "execute_result"
    }
   ],
   "source": [
    "from scipy import stats\n",
    "a = compare['EFFICIENCY'].values.tolist()\n",
    "b = compare['scale_qPCR'].values.tolist()\n",
    "stats.pearsonr(a, b)"
   ]
  },
  {
   "cell_type": "code",
   "execution_count": 103,
   "metadata": {},
   "outputs": [
    {
     "data": {
      "text/plain": [
       "0.3492063492063492"
      ]
     },
     "execution_count": 103,
     "metadata": {},
     "output_type": "execute_result"
    }
   ],
   "source": [
    "22/63"
   ]
  },
  {
   "cell_type": "code",
   "execution_count": null,
   "metadata": {},
   "outputs": [],
   "source": []
  }
 ],
 "metadata": {
  "kernelspec": {
   "display_name": "Python 3",
   "language": "python",
   "name": "python3"
  },
  "language_info": {
   "codemirror_mode": {
    "name": "ipython",
    "version": 3
   },
   "file_extension": ".py",
   "mimetype": "text/x-python",
   "name": "python",
   "nbconvert_exporter": "python",
   "pygments_lexer": "ipython3",
   "version": "3.7.3"
  }
 },
 "nbformat": 4,
 "nbformat_minor": 2
}
