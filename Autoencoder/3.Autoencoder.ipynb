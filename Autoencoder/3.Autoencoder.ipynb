{
 "cells": [
  {
   "cell_type": "code",
   "execution_count": 1,
   "metadata": {
    "ExecuteTime": {
     "end_time": "2020-04-15T08:19:13.559176Z",
     "start_time": "2020-04-15T08:19:12.073477Z"
    },
    "colab": {},
    "colab_type": "code",
    "id": "1GjMqsgiwl47"
   },
   "outputs": [],
   "source": [
    "import pandas as pd\n",
    "import numpy as np\n",
    "import torch\n",
    "import torch.nn as nn\n",
    "import torch.nn.functional as F\n",
    "import torch.optim as optim\n",
    "from torch.optim import lr_scheduler\n",
    "import numpy as np\n",
    "import torchvision\n",
    "from torchvision import datasets, models, transforms\n",
    "from torch.utils.data import Dataset, DataLoader\n",
    "import matplotlib.pyplot as plt\n",
    "import seaborn as sns"
   ]
  },
  {
   "cell_type": "markdown",
   "metadata": {
    "colab_type": "text",
    "id": "FnBO7kLywl5C"
   },
   "source": [
    "# Load data"
   ]
  },
  {
   "cell_type": "code",
   "execution_count": 2,
   "metadata": {
    "ExecuteTime": {
     "end_time": "2020-04-15T08:19:13.843267Z",
     "start_time": "2020-04-15T08:19:13.560602Z"
    },
    "colab": {},
    "colab_type": "code",
    "id": "6g2FsgVRwl5D"
   },
   "outputs": [],
   "source": [
    "data_train = pd.read_csv('data/danrer11_chopchop_train.csv',index_col=0)\n",
    "data_test = pd.read_csv('data/danrer11_chopchop_test.csv',index_col=0)"
   ]
  },
  {
   "cell_type": "markdown",
   "metadata": {
    "colab_type": "text",
    "id": "HotdoUf-wl5Q"
   },
   "source": [
    "# Transform Data"
   ]
  },
  {
   "cell_type": "markdown",
   "metadata": {
    "colab_type": "text",
    "id": "fVzjNSnNwl5R"
   },
   "source": [
    "## One-hot encoding"
   ]
  },
  {
   "cell_type": "code",
   "execution_count": 3,
   "metadata": {
    "ExecuteTime": {
     "end_time": "2020-04-15T08:19:18.471459Z",
     "start_time": "2020-04-15T08:19:13.845099Z"
    },
    "colab": {},
    "colab_type": "code",
    "id": "Q_TbMTHMwl5S",
    "outputId": "1784a003-e490-424d-de0f-d7a9964150c3"
   },
   "outputs": [
    {
     "name": "stdout",
     "output_type": "stream",
     "text": [
      "Train dataset size: (226420, 4, 23)\n",
      "Test dataset size: (56606, 4, 23)\n"
     ]
    }
   ],
   "source": [
    "encoding = {'A':np.array([1,0,0,0]),\n",
    "            'C':np.array([0,1,0,0]),\n",
    "            'G':np.array([0,0,1,0]),\n",
    "            'T':np.array([0,0,0,1])}\n",
    "\n",
    "def one_hot(guide,encoding):\n",
    "    data = np.zeros((4,len(guide)))\n",
    "    assert data.shape == (4,23)\n",
    "    for i in range(data.shape[-1]):\n",
    "        data[:,i] = encoding[guide[i]]\n",
    "    return data\n",
    "\n",
    "#print(one_hot('CTGATCACGGCTGAAGGACTCGG',encoding))\n",
    "\n",
    "def batch_one_hot(data,encoding):\n",
    "    guides = np.zeros((len(data),4,23))\n",
    "    i=0\n",
    "    for guide in data['GUIDE']:\n",
    "        guides[i] = one_hot(guide,encoding)\n",
    "        i+=1\n",
    "    return guides\n",
    "\n",
    "guides_train = batch_one_hot(data_train,encoding)\n",
    "guides_test = batch_one_hot(data_test,encoding)\n",
    "print('Train dataset size:',guides_train.shape)\n",
    "print('Test dataset size:',guides_test.shape)"
   ]
  },
  {
   "cell_type": "markdown",
   "metadata": {
    "colab_type": "text",
    "id": "GiVZTAoVwl5V"
   },
   "source": [
    "## `Pytorch` data format"
   ]
  },
  {
   "cell_type": "code",
   "execution_count": 65,
   "metadata": {
    "ExecuteTime": {
     "end_time": "2020-04-15T17:01:57.729329Z",
     "start_time": "2020-04-15T17:01:57.718557Z"
    },
    "colab": {},
    "colab_type": "code",
    "id": "ph_dX0gKwl5W"
   },
   "outputs": [],
   "source": [
    "class GGEDataset(Dataset):\n",
    "\n",
    "    def __init__(self, data, transform=None):\n",
    "        self.data = data\n",
    "        self.transform = transform\n",
    "\n",
    "    def __len__(self):\n",
    "        return len(self.data)\n",
    "\n",
    "    def __getitem__(self, idx):\n",
    "        if torch.is_tensor(idx):\n",
    "            idx = idx.tolist()\n",
    "            \n",
    "        sample = self.data[idx]\n",
    "        if self.transform:\n",
    "            sample = self.transform(sample)\n",
    "\n",
    "        return sample.float()\n",
    "    \n",
    "transform = transforms.Compose([\n",
    "        transforms.ToTensor()\n",
    "    ])\n",
    "GGE_dataset_train = GGEDataset(data = guides_train, transform = transform)\n",
    "GGE_dataset_test = GGEDataset(data = guides_test, transform = transform)\n",
    "\n",
    "trainloader = torch.utils.data.DataLoader(GGE_dataset_train, batch_size=50000,shuffle=True, num_workers=12)\n",
    "testloader = torch.utils.data.DataLoader(GGE_dataset_test, batch_size=50000,shuffle=True, num_workers=12)"
   ]
  },
  {
   "cell_type": "markdown",
   "metadata": {
    "ExecuteTime": {
     "end_time": "2020-03-24T18:40:55.537637Z",
     "start_time": "2020-03-24T18:40:55.534633Z"
    },
    "colab_type": "text",
    "id": "mUVfMb1uwl5Z"
   },
   "source": [
    "### Inspect dataset"
   ]
  },
  {
   "cell_type": "code",
   "execution_count": 66,
   "metadata": {
    "ExecuteTime": {
     "end_time": "2020-04-15T17:02:01.436800Z",
     "start_time": "2020-04-15T17:02:00.175605Z"
    },
    "colab": {},
    "colab_type": "code",
    "id": "Sk7m2K4Wwl5a",
    "outputId": "8da34222-e0a5-40f6-a1ac-67f60c5f8de1",
    "scrolled": true
   },
   "outputs": [
    {
     "data": {
      "text/plain": [
       "tensor([[[[0., 0., 0.,  ..., 0., 0., 0.],\n",
       "          [0., 0., 0.,  ..., 1., 0., 0.],\n",
       "          [0., 1., 1.,  ..., 0., 1., 1.],\n",
       "          [1., 0., 0.,  ..., 0., 0., 0.]]],\n",
       "\n",
       "\n",
       "        [[[0., 1., 0.,  ..., 0., 0., 0.],\n",
       "          [0., 0., 1.,  ..., 0., 0., 0.],\n",
       "          [0., 0., 0.,  ..., 1., 1., 1.],\n",
       "          [1., 0., 0.,  ..., 0., 0., 0.]]],\n",
       "\n",
       "\n",
       "        [[[0., 0., 0.,  ..., 0., 0., 0.],\n",
       "          [0., 0., 0.,  ..., 0., 0., 0.],\n",
       "          [0., 0., 0.,  ..., 0., 1., 1.],\n",
       "          [1., 1., 1.,  ..., 1., 0., 0.]]],\n",
       "\n",
       "\n",
       "        ...,\n",
       "\n",
       "\n",
       "        [[[0., 0., 1.,  ..., 0., 0., 0.],\n",
       "          [1., 0., 0.,  ..., 0., 0., 0.],\n",
       "          [0., 1., 0.,  ..., 0., 1., 1.],\n",
       "          [0., 0., 0.,  ..., 1., 0., 0.]]],\n",
       "\n",
       "\n",
       "        [[[1., 0., 0.,  ..., 0., 0., 0.],\n",
       "          [0., 0., 1.,  ..., 1., 0., 0.],\n",
       "          [0., 1., 0.,  ..., 0., 1., 1.],\n",
       "          [0., 0., 0.,  ..., 0., 0., 0.]]],\n",
       "\n",
       "\n",
       "        [[[0., 0., 0.,  ..., 0., 0., 0.],\n",
       "          [0., 0., 0.,  ..., 0., 0., 0.],\n",
       "          [1., 0., 1.,  ..., 0., 1., 1.],\n",
       "          [0., 1., 0.,  ..., 1., 0., 0.]]]])"
      ]
     },
     "execution_count": 66,
     "metadata": {},
     "output_type": "execute_result"
    }
   ],
   "source": [
    "next(iter(trainloader))"
   ]
  },
  {
   "cell_type": "markdown",
   "metadata": {
    "colab_type": "text",
    "id": "e5uCqSVIwl5d"
   },
   "source": [
    "# Create Autoencoder"
   ]
  },
  {
   "cell_type": "code",
   "execution_count": 67,
   "metadata": {
    "ExecuteTime": {
     "end_time": "2020-04-15T17:02:05.208111Z",
     "start_time": "2020-04-15T17:02:05.196615Z"
    },
    "colab": {},
    "colab_type": "code",
    "id": "dXMIBiI6wl5d"
   },
   "outputs": [],
   "source": [
    "class Autoencoder(nn.Module):\n",
    "    def __init__(self):\n",
    "        super(Autoencoder, self).__init__()\n",
    "\n",
    "        self.encoder = nn.Sequential(\n",
    "            nn.Linear(92, 60),\n",
    "            nn.ReLU(),\n",
    "            nn.Linear(60, 40),\n",
    "            nn.ReLU(),\n",
    "            nn.Linear(40, 30)\n",
    "        )\n",
    "        self.decoder = nn.Sequential(\n",
    "            nn.Linear(30, 40),\n",
    "            nn.ReLU(),\n",
    "            nn.Linear(40, 60),\n",
    "            nn.ReLU(),\n",
    "            nn.Linear(60, 92),\n",
    "            nn.Sigmoid()\n",
    "        )\n",
    "        \n",
    "        self.conv1 = nn.Conv2d(1, 6, 2)\n",
    "        self.pool1 = nn.MaxPool2d(2, 2)\n",
    "        self.conv2 = nn.ConvTranspose2d(6, 1, 2)\n",
    "        self.pool2 =nn.MaxUnpool2d(2, 2)\n",
    "\n",
    "    def forward(self, x):\n",
    "        x = x.view(-1,1*4*23)\n",
    "        x = self.encoder(x)\n",
    "        x = self.decoder(x)\n",
    "        x = x.view(-1,1,4,23)\n",
    "\n",
    "        return x"
   ]
  },
  {
   "cell_type": "code",
   "execution_count": 68,
   "metadata": {
    "ExecuteTime": {
     "end_time": "2020-04-15T17:02:14.348034Z",
     "start_time": "2020-04-15T17:02:13.078400Z"
    },
    "colab": {},
    "colab_type": "code",
    "id": "_bluLU2zwl5g",
    "outputId": "1b6b0dfd-0639-435d-df7f-3d281b7452a3"
   },
   "outputs": [
    {
     "data": {
      "text/plain": [
       "torch.Size([50000, 1, 4, 23])"
      ]
     },
     "execution_count": 68,
     "metadata": {},
     "output_type": "execute_result"
    }
   ],
   "source": [
    "net_t = Autoencoder()\n",
    "data_i = next(iter(trainloader))\n",
    "net_t(data_i).shape"
   ]
  },
  {
   "cell_type": "code",
   "execution_count": 69,
   "metadata": {
    "ExecuteTime": {
     "end_time": "2020-04-15T17:02:16.053821Z",
     "start_time": "2020-04-15T17:02:16.048222Z"
    },
    "colab": {},
    "colab_type": "code",
    "id": "XDpPBvunwl5j",
    "outputId": "f6f2d8cc-771a-4e3a-9b30-dde3090c3a90"
   },
   "outputs": [
    {
     "data": {
      "text/plain": [
       "torch.Size([50000, 1, 4, 23])"
      ]
     },
     "execution_count": 69,
     "metadata": {},
     "output_type": "execute_result"
    }
   ],
   "source": [
    "data_i.shape"
   ]
  },
  {
   "cell_type": "markdown",
   "metadata": {
    "colab_type": "text",
    "id": "couTqBhXwl5m"
   },
   "source": [
    "## Training Data"
   ]
  },
  {
   "cell_type": "code",
   "execution_count": 70,
   "metadata": {
    "ExecuteTime": {
     "end_time": "2020-04-15T17:02:18.205168Z",
     "start_time": "2020-04-15T17:02:18.198505Z"
    },
    "colab": {},
    "colab_type": "code",
    "id": "qfpBlYlnwl5n",
    "outputId": "53b958d8-b881-4cfb-8148-7f4e03bc4a00"
   },
   "outputs": [
    {
     "data": {
      "text/plain": [
       "device(type='cuda', index=0)"
      ]
     },
     "execution_count": 70,
     "metadata": {},
     "output_type": "execute_result"
    }
   ],
   "source": [
    "device = torch.device(\"cuda:0\" if torch.cuda.is_available() else \"cpu\")\n",
    "device"
   ]
  },
  {
   "cell_type": "code",
   "execution_count": 71,
   "metadata": {
    "ExecuteTime": {
     "end_time": "2020-04-15T17:02:22.728600Z",
     "start_time": "2020-04-15T17:02:22.705354Z"
    },
    "colab": {},
    "colab_type": "code",
    "id": "O2ntdOoTwl5r"
   },
   "outputs": [],
   "source": [
    "net = Autoencoder().to(device)"
   ]
  },
  {
   "cell_type": "code",
   "execution_count": 78,
   "metadata": {
    "ExecuteTime": {
     "end_time": "2020-04-15T17:24:14.932190Z",
     "start_time": "2020-04-15T17:19:57.649044Z"
    },
    "colab": {},
    "colab_type": "code",
    "id": "IPFAi0oIwl5u",
    "outputId": "98e70da3-7d54-4e1e-ac19-5398d27212ad"
   },
   "outputs": [
    {
     "name": "stdout",
     "output_type": "stream",
     "text": [
      "Epoch:10, loss:0.22641125693917274\n",
      "Epoch:20, loss:0.2118239402770996\n",
      "Epoch:30, loss:0.2050689198076725\n",
      "Epoch:40, loss:0.2001567967236042\n",
      "Epoch:50, loss:0.19618016853928566\n",
      "Epoch:60, loss:0.19258033484220505\n",
      "Epoch:70, loss:0.1893480084836483\n",
      "Epoch:80, loss:0.18626950681209564\n",
      "Epoch:90, loss:0.18349628522992134\n",
      "Epoch:100, loss:0.180872593075037\n",
      "Epoch:110, loss:0.17834994196891785\n",
      "Epoch:120, loss:0.17595647275447845\n",
      "Epoch:130, loss:0.17370330542325974\n",
      "Epoch:140, loss:0.17145054414868355\n",
      "Epoch:150, loss:0.16938578337430954\n",
      "Epoch:160, loss:0.167251817882061\n",
      "Epoch:170, loss:0.1651107221841812\n",
      "Epoch:180, loss:0.1631321795284748\n",
      "Epoch:190, loss:0.16110064461827278\n",
      "Epoch:200, loss:0.15907832980155945\n"
     ]
    }
   ],
   "source": [
    "#criterion = nn.CrossEntropyLoss()\n",
    "criterion = nn.MSELoss()\n",
    "optimizer = optim.SGD(net.parameters(), lr=1, momentum=0.5)\n",
    "\n",
    "for epoch in range(200):\n",
    "    running_loss = 0.0\n",
    "    for data in trainloader:\n",
    "        data = data.to(device)\n",
    "        optimizer.zero_grad()\n",
    "        outputs = net(data)\n",
    "        loss = criterion(outputs, data)\n",
    "        loss.backward()\n",
    "        optimizer.step()\n",
    "        \n",
    "        running_loss += loss.item()\n",
    "    if epoch % 10 == 9:\n",
    "        print('Epoch:{}, loss:{}'.format(epoch+1,running_loss))"
   ]
  },
  {
   "cell_type": "markdown",
   "metadata": {
    "ExecuteTime": {
     "end_time": "2020-03-24T20:17:35.598922Z",
     "start_time": "2020-03-24T20:17:35.591028Z"
    },
    "colab_type": "text",
    "id": "KEdd515_wl5w"
   },
   "source": [
    "## Inspect Output"
   ]
  },
  {
   "cell_type": "code",
   "execution_count": 14,
   "metadata": {
    "ExecuteTime": {
     "end_time": "2020-04-15T01:02:23.290877Z",
     "start_time": "2020-04-15T01:02:20.240938Z"
    },
    "colab": {},
    "colab_type": "code",
    "id": "12qo-pmxwl5x",
    "outputId": "4bb91dda-3b02-43d3-cd69-f14a733b5319",
    "scrolled": false
   },
   "outputs": [
    {
     "name": "stdout",
     "output_type": "stream",
     "text": [
      "RAW Data:\n",
      " tensor([[0, 0, 1, 0, 1, 0, 0, 0, 1, 0, 0, 1, 0, 0, 0, 1, 1, 0, 1, 1, 0, 0, 0],\n",
      "        [0, 0, 0, 1, 0, 0, 0, 1, 0, 0, 1, 0, 1, 0, 0, 0, 0, 1, 0, 0, 0, 0, 0],\n",
      "        [0, 1, 0, 0, 0, 0, 0, 0, 0, 1, 0, 0, 0, 0, 1, 0, 0, 0, 0, 0, 0, 1, 1],\n",
      "        [1, 0, 0, 0, 0, 1, 1, 0, 0, 0, 0, 0, 0, 1, 0, 0, 0, 0, 0, 0, 1, 0, 0]],\n",
      "       dtype=torch.int32)\n",
      "\n",
      "Reconstruct Data:\n",
      " tensor([[1, 0, 0, 0, 0, 0, 0, 0, 1, 0, 1, 1, 0, 1, 0, 1, 1, 0, 1, 1, 0, 0, 0],\n",
      "        [0, 0, 0, 1, 0, 0, 0, 1, 0, 0, 0, 0, 1, 0, 0, 0, 0, 1, 0, 0, 0, 0, 0],\n",
      "        [0, 0, 1, 0, 0, 0, 0, 0, 0, 1, 0, 0, 0, 0, 1, 0, 0, 0, 0, 0, 1, 1, 1],\n",
      "        [0, 1, 0, 0, 1, 1, 1, 0, 0, 0, 0, 0, 0, 0, 0, 0, 0, 0, 0, 0, 0, 0, 0]],\n",
      "       dtype=torch.int32)\n"
     ]
    }
   ],
   "source": [
    "data_i = next(iter(trainloader))\n",
    "print('RAW Data:\\n',data_i.int()[0,0,:,:])\n",
    "with torch.no_grad():\n",
    "    output_i = net(data_i.to(device)).to('cpu')\n",
    "    i = 0\n",
    "    for s in output_i:\n",
    "        output_i[i] = F.one_hot(torch.argmax(s[0,:,:],axis = 0),num_classes=4).T\n",
    "        i += 1\n",
    "    print('\\nReconstruct Data:\\n',output_i.int()[0,0,:,:])"
   ]
  },
  {
   "cell_type": "markdown",
   "metadata": {
    "colab_type": "text",
    "id": "OiCvriw0wl5z"
   },
   "source": [
    "## Evaluation"
   ]
  },
  {
   "cell_type": "code",
   "execution_count": 80,
   "metadata": {
    "ExecuteTime": {
     "end_time": "2020-04-15T17:28:15.552067Z",
     "start_time": "2020-04-15T17:26:33.728054Z"
    },
    "colab": {},
    "colab_type": "code",
    "id": "vW2BzETKwl50",
    "outputId": "5e62d15a-c3cc-4a22-b2c4-c62c2bcc36b0"
   },
   "outputs": [
    {
     "name": "stdout",
     "output_type": "stream",
     "text": [
      "Training Accuracy: 91.41553019974423%\n"
     ]
    }
   ],
   "source": [
    "with torch.no_grad():\n",
    "    correct = 0\n",
    "    for data in trainloader:\n",
    "        outputs = net(data.to(device)).to('cpu')\n",
    "        i = 0\n",
    "        for s in outputs:\n",
    "            outputs[i] = F.one_hot(torch.argmax(s[0,:,:],axis = 0),num_classes=4).T\n",
    "            i += 1\n",
    "        \n",
    "        for i in range(len(data)):\n",
    "            for j in range(23):\n",
    "                if outputs[i][:,:,j].int().equal(data[i][:,:,j].int()):\n",
    "                    correct += 1\n",
    "    accuracy = correct/len(trainloader.dataset)/23\n",
    "    print('Training Accuracy: {}%'.format(accuracy*100))"
   ]
  },
  {
   "cell_type": "code",
   "execution_count": 79,
   "metadata": {
    "ExecuteTime": {
     "end_time": "2020-04-15T17:26:21.312379Z",
     "start_time": "2020-04-15T17:25:55.019685Z"
    },
    "colab": {},
    "colab_type": "code",
    "id": "baD-FCJ2wl52",
    "outputId": "f70ee8dd-b6b5-4375-d20e-e8556ce3f4b3"
   },
   "outputs": [
    {
     "name": "stdout",
     "output_type": "stream",
     "text": [
      "Testing Accuracy: 91.33845083252812%\n"
     ]
    }
   ],
   "source": [
    "with torch.no_grad():\n",
    "    correct = 0\n",
    "    for data in testloader:\n",
    "        outputs = net(data.to(device)).to('cpu')\n",
    "        i = 0\n",
    "        for s in outputs:\n",
    "            outputs[i] = F.one_hot(torch.argmax(s[0,:,:],axis = 0),num_classes=4).T\n",
    "            i += 1\n",
    "        \n",
    "        for i in range(len(data)):\n",
    "            for j in range(23):\n",
    "                if outputs[i][:,:,j].int().equal(data[i][:,:,j].int()):\n",
    "                    correct += 1\n",
    "    accuracy = correct/len(testloader.dataset)/23\n",
    "    print('Testing Accuracy: {}%'.format(accuracy*100))"
   ]
  },
  {
   "cell_type": "code",
   "execution_count": 81,
   "metadata": {
    "ExecuteTime": {
     "end_time": "2020-04-15T17:28:51.798836Z",
     "start_time": "2020-04-15T17:28:51.777826Z"
    }
   },
   "outputs": [],
   "source": [
    "torch.save({'state_dict': net.state_dict()}, 'model/autoencoder.pth.tar')"
   ]
  },
  {
   "cell_type": "code",
   "execution_count": null,
   "metadata": {},
   "outputs": [],
   "source": []
  }
 ],
 "metadata": {
  "colab": {
   "name": "Autoencoder-Copy1.ipynb",
   "provenance": []
  },
  "kernelspec": {
   "display_name": "Python 3",
   "language": "python",
   "name": "python3"
  },
  "language_info": {
   "codemirror_mode": {
    "name": "ipython",
    "version": 3
   },
   "file_extension": ".py",
   "mimetype": "text/x-python",
   "name": "python",
   "nbconvert_exporter": "python",
   "pygments_lexer": "ipython3",
   "version": "3.7.4"
  },
  "latex_envs": {
   "LaTeX_envs_menu_present": true,
   "autoclose": false,
   "autocomplete": true,
   "bibliofile": "biblio.bib",
   "cite_by": "apalike",
   "current_citInitial": 1,
   "eqLabelWithNumbers": true,
   "eqNumInitial": 1,
   "hotkeys": {
    "equation": "Ctrl-E",
    "itemize": "Ctrl-I"
   },
   "labels_anchors": false,
   "latex_user_defs": false,
   "report_style_numbering": false,
   "user_envs_cfg": false
  },
  "nbTranslate": {
   "displayLangs": [
    "zh-cn",
    "en"
   ],
   "hotkey": "alt-t",
   "langInMainMenu": true,
   "sourceLang": "en",
   "targetLang": "zh-cn",
   "useGoogleTranslate": true
  },
  "toc": {
   "base_numbering": 1,
   "nav_menu": {},
   "number_sections": true,
   "sideBar": true,
   "skip_h1_title": false,
   "title_cell": "Table of Contents",
   "title_sidebar": "Contents",
   "toc_cell": false,
   "toc_position": {},
   "toc_section_display": true,
   "toc_window_display": false
  },
  "varInspector": {
   "cols": {
    "lenName": 16,
    "lenType": 16,
    "lenVar": 40
   },
   "kernels_config": {
    "python": {
     "delete_cmd_postfix": "",
     "delete_cmd_prefix": "del ",
     "library": "var_list.py",
     "varRefreshCmd": "print(var_dic_list())"
    },
    "r": {
     "delete_cmd_postfix": ") ",
     "delete_cmd_prefix": "rm(",
     "library": "var_list.r",
     "varRefreshCmd": "cat(var_dic_list()) "
    }
   },
   "types_to_exclude": [
    "module",
    "function",
    "builtin_function_or_method",
    "instance",
    "_Feature"
   ],
   "window_display": false
  }
 },
 "nbformat": 4,
 "nbformat_minor": 1
}
