{
 "cells": [
  {
   "cell_type": "code",
   "execution_count": 41,
   "metadata": {
    "ExecuteTime": {
     "end_time": "2020-03-25T01:44:59.378404Z",
     "start_time": "2020-03-25T01:44:59.373445Z"
    }
   },
   "outputs": [],
   "source": [
    "import pandas as pd\n",
    "import numpy as np\n",
    "import torch\n",
    "import torch.nn as nn\n",
    "import torch.nn.functional as F\n",
    "import torch.optim as optim\n",
    "from torch.optim import lr_scheduler\n",
    "import numpy as np\n",
    "import torchvision\n",
    "from torchvision import datasets, models, transforms\n",
    "from torch.utils.data import Dataset, DataLoader\n",
    "import matplotlib.pyplot as plt\n",
    "import seaborn as sns"
   ]
  },
  {
   "cell_type": "markdown",
   "metadata": {},
   "source": [
    "# Load data"
   ]
  },
  {
   "cell_type": "code",
   "execution_count": 42,
   "metadata": {
    "ExecuteTime": {
     "end_time": "2020-03-25T01:45:00.874486Z",
     "start_time": "2020-03-25T01:45:00.832157Z"
    }
   },
   "outputs": [],
   "source": [
    "data_good = pd.read_csv('data/danrer11_good.csv',index_col=0)\n",
    "data_bad = pd.read_csv('data/danrer11_bad.csv',index_col=0)\n",
    "data_good_bad = pd.read_csv('data/danrer11_good_bad.csv',index_col=0)"
   ]
  },
  {
   "cell_type": "code",
   "execution_count": 43,
   "metadata": {
    "ExecuteTime": {
     "end_time": "2020-03-25T01:45:01.410156Z",
     "start_time": "2020-03-25T01:45:01.398964Z"
    },
    "cell_style": "split",
    "scrolled": true
   },
   "outputs": [
    {
     "data": {
      "text/html": [
       "<div>\n",
       "<style scoped>\n",
       "    .dataframe tbody tr th:only-of-type {\n",
       "        vertical-align: middle;\n",
       "    }\n",
       "\n",
       "    .dataframe tbody tr th {\n",
       "        vertical-align: top;\n",
       "    }\n",
       "\n",
       "    .dataframe thead th {\n",
       "        text-align: right;\n",
       "    }\n",
       "</style>\n",
       "<table border=\"1\" class=\"dataframe\">\n",
       "  <thead>\n",
       "    <tr style=\"text-align: right;\">\n",
       "      <th></th>\n",
       "      <th>GUIDE</th>\n",
       "      <th>Efficiency</th>\n",
       "    </tr>\n",
       "    <tr>\n",
       "      <th>Rank</th>\n",
       "      <th></th>\n",
       "      <th></th>\n",
       "    </tr>\n",
       "  </thead>\n",
       "  <tbody>\n",
       "    <tr>\n",
       "      <th>1</th>\n",
       "      <td>CGATGTTGGGAAACTTGGGTAGG</td>\n",
       "      <td>70.94</td>\n",
       "    </tr>\n",
       "    <tr>\n",
       "      <th>13</th>\n",
       "      <td>TCCTGAATGTGTATGAGTCGAGG</td>\n",
       "      <td>67.71</td>\n",
       "    </tr>\n",
       "    <tr>\n",
       "      <th>17</th>\n",
       "      <td>AAGACGCGTTAAACGCTCAGCGG</td>\n",
       "      <td>72.91</td>\n",
       "    </tr>\n",
       "    <tr>\n",
       "      <th>1</th>\n",
       "      <td>CTAAACGAGATGAATTACCGTGG</td>\n",
       "      <td>75.01</td>\n",
       "    </tr>\n",
       "    <tr>\n",
       "      <th>2</th>\n",
       "      <td>TAATGACGTGAACGCGCCCGTGG</td>\n",
       "      <td>68.97</td>\n",
       "    </tr>\n",
       "    <tr>\n",
       "      <th>...</th>\n",
       "      <td>...</td>\n",
       "      <td>...</td>\n",
       "    </tr>\n",
       "    <tr>\n",
       "      <th>10</th>\n",
       "      <td>TTGTACTTCCGGCTTCAATGAGG</td>\n",
       "      <td>67.26</td>\n",
       "    </tr>\n",
       "    <tr>\n",
       "      <th>1</th>\n",
       "      <td>CAATAAGAAAGCCTAATCGTCGG</td>\n",
       "      <td>68.67</td>\n",
       "    </tr>\n",
       "    <tr>\n",
       "      <th>7</th>\n",
       "      <td>ACACAACAGCGCCATCTCAGTGG</td>\n",
       "      <td>68.37</td>\n",
       "    </tr>\n",
       "    <tr>\n",
       "      <th>16</th>\n",
       "      <td>ATGTGTGGAGGAGAGCAGCGCGG</td>\n",
       "      <td>69.29</td>\n",
       "    </tr>\n",
       "    <tr>\n",
       "      <th>18</th>\n",
       "      <td>GAGTGTAAGTGTGAGGCACGGGG</td>\n",
       "      <td>70.92</td>\n",
       "    </tr>\n",
       "  </tbody>\n",
       "</table>\n",
       "<p>6501 rows × 2 columns</p>\n",
       "</div>"
      ],
      "text/plain": [
       "                        GUIDE  Efficiency\n",
       "Rank                                     \n",
       "1     CGATGTTGGGAAACTTGGGTAGG       70.94\n",
       "13    TCCTGAATGTGTATGAGTCGAGG       67.71\n",
       "17    AAGACGCGTTAAACGCTCAGCGG       72.91\n",
       "1     CTAAACGAGATGAATTACCGTGG       75.01\n",
       "2     TAATGACGTGAACGCGCCCGTGG       68.97\n",
       "...                       ...         ...\n",
       "10    TTGTACTTCCGGCTTCAATGAGG       67.26\n",
       "1     CAATAAGAAAGCCTAATCGTCGG       68.67\n",
       "7     ACACAACAGCGCCATCTCAGTGG       68.37\n",
       "16    ATGTGTGGAGGAGAGCAGCGCGG       69.29\n",
       "18    GAGTGTAAGTGTGAGGCACGGGG       70.92\n",
       "\n",
       "[6501 rows x 2 columns]"
      ]
     },
     "execution_count": 43,
     "metadata": {},
     "output_type": "execute_result"
    }
   ],
   "source": [
    "data_good"
   ]
  },
  {
   "cell_type": "code",
   "execution_count": 44,
   "metadata": {
    "ExecuteTime": {
     "end_time": "2020-03-25T01:45:02.237275Z",
     "start_time": "2020-03-25T01:45:02.228573Z"
    },
    "cell_style": "split",
    "scrolled": true
   },
   "outputs": [
    {
     "data": {
      "text/html": [
       "<div>\n",
       "<style scoped>\n",
       "    .dataframe tbody tr th:only-of-type {\n",
       "        vertical-align: middle;\n",
       "    }\n",
       "\n",
       "    .dataframe tbody tr th {\n",
       "        vertical-align: top;\n",
       "    }\n",
       "\n",
       "    .dataframe thead th {\n",
       "        text-align: right;\n",
       "    }\n",
       "</style>\n",
       "<table border=\"1\" class=\"dataframe\">\n",
       "  <thead>\n",
       "    <tr style=\"text-align: right;\">\n",
       "      <th></th>\n",
       "      <th>GUIDE</th>\n",
       "      <th>Efficiency</th>\n",
       "    </tr>\n",
       "    <tr>\n",
       "      <th>Rank</th>\n",
       "      <th></th>\n",
       "      <th></th>\n",
       "    </tr>\n",
       "  </thead>\n",
       "  <tbody>\n",
       "    <tr>\n",
       "      <th>26</th>\n",
       "      <td>TCTTTATGATCTTGTGTTTACGG</td>\n",
       "      <td>18.46</td>\n",
       "    </tr>\n",
       "    <tr>\n",
       "      <th>16</th>\n",
       "      <td>TTAGATGCGCGTGCTCTAATTGG</td>\n",
       "      <td>31.92</td>\n",
       "    </tr>\n",
       "    <tr>\n",
       "      <th>20</th>\n",
       "      <td>TCACTTGACAGGAGGTTTATCGG</td>\n",
       "      <td>29.22</td>\n",
       "    </tr>\n",
       "    <tr>\n",
       "      <th>29</th>\n",
       "      <td>TTCCAACTGTCTCAAGTATTTGG</td>\n",
       "      <td>24.10</td>\n",
       "    </tr>\n",
       "    <tr>\n",
       "      <th>29</th>\n",
       "      <td>AGAGGAAGCCGGTGCGGATCTGG</td>\n",
       "      <td>32.00</td>\n",
       "    </tr>\n",
       "    <tr>\n",
       "      <th>...</th>\n",
       "      <td>...</td>\n",
       "      <td>...</td>\n",
       "    </tr>\n",
       "    <tr>\n",
       "      <th>12</th>\n",
       "      <td>ACGAGTAGTCATGGCTAGTTTGG</td>\n",
       "      <td>32.21</td>\n",
       "    </tr>\n",
       "    <tr>\n",
       "      <th>21</th>\n",
       "      <td>TTCAATATCATCTGTTATTTTGG</td>\n",
       "      <td>10.67</td>\n",
       "    </tr>\n",
       "    <tr>\n",
       "      <th>6</th>\n",
       "      <td>GATCAGCGCCTCCTGTGTTCTGG</td>\n",
       "      <td>30.54</td>\n",
       "    </tr>\n",
       "    <tr>\n",
       "      <th>10</th>\n",
       "      <td>GAGTCTGCAAATGTCTTTTATGG</td>\n",
       "      <td>17.38</td>\n",
       "    </tr>\n",
       "    <tr>\n",
       "      <th>12</th>\n",
       "      <td>AGTCTGCAAATGTCTTTTATGGG</td>\n",
       "      <td>23.10</td>\n",
       "    </tr>\n",
       "  </tbody>\n",
       "</table>\n",
       "<p>7582 rows × 2 columns</p>\n",
       "</div>"
      ],
      "text/plain": [
       "                        GUIDE  Efficiency\n",
       "Rank                                     \n",
       "26    TCTTTATGATCTTGTGTTTACGG       18.46\n",
       "16    TTAGATGCGCGTGCTCTAATTGG       31.92\n",
       "20    TCACTTGACAGGAGGTTTATCGG       29.22\n",
       "29    TTCCAACTGTCTCAAGTATTTGG       24.10\n",
       "29    AGAGGAAGCCGGTGCGGATCTGG       32.00\n",
       "...                       ...         ...\n",
       "12    ACGAGTAGTCATGGCTAGTTTGG       32.21\n",
       "21    TTCAATATCATCTGTTATTTTGG       10.67\n",
       "6     GATCAGCGCCTCCTGTGTTCTGG       30.54\n",
       "10    GAGTCTGCAAATGTCTTTTATGG       17.38\n",
       "12    AGTCTGCAAATGTCTTTTATGGG       23.10\n",
       "\n",
       "[7582 rows x 2 columns]"
      ]
     },
     "execution_count": 44,
     "metadata": {},
     "output_type": "execute_result"
    }
   ],
   "source": [
    "data_bad"
   ]
  },
  {
   "cell_type": "markdown",
   "metadata": {},
   "source": [
    "# Transform Data"
   ]
  },
  {
   "cell_type": "markdown",
   "metadata": {},
   "source": [
    "## One-hot encoding"
   ]
  },
  {
   "cell_type": "code",
   "execution_count": 45,
   "metadata": {
    "ExecuteTime": {
     "end_time": "2020-03-25T01:45:08.393924Z",
     "start_time": "2020-03-25T01:45:07.906624Z"
    }
   },
   "outputs": [
    {
     "name": "stdout",
     "output_type": "stream",
     "text": [
      "Good dataset size: (6501, 4, 23)\n",
      "Bad dataset size: (7582, 4, 23)\n",
      "All dataset size: (14083, 4, 23)\n"
     ]
    }
   ],
   "source": [
    "encoding = {'A':np.array([1,0,0,0]),\n",
    "            'C':np.array([0,1,0,0]),\n",
    "            'G':np.array([0,0,1,0]),\n",
    "            'T':np.array([0,0,0,1])}\n",
    "\n",
    "def one_hot(guide,encoding):\n",
    "    data = np.zeros((4,len(guide)))\n",
    "    assert data.shape == (4,23)\n",
    "    for i in range(data.shape[-1]):\n",
    "        data[:,i] = encoding[guide[i]]\n",
    "    return data\n",
    "\n",
    "#print(one_hot('CTGATCACGGCTGAAGGACTCGG',encoding))\n",
    "\n",
    "def batch_one_hot(data,encoding):\n",
    "    guides = np.zeros((len(data),4,23))\n",
    "    i=0\n",
    "    for guide in data['GUIDE']:\n",
    "        guides[i] = one_hot(guide,encoding)\n",
    "        i+=1\n",
    "    return guides\n",
    "\n",
    "guides_good = batch_one_hot(data_good,encoding)\n",
    "guides_bad = batch_one_hot(data_bad,encoding)\n",
    "guides_good_bad = batch_one_hot(data_good_bad,encoding)\n",
    "print('Good dataset size:',guides_good.shape)\n",
    "print('Bad dataset size:',guides_bad.shape)\n",
    "print('All dataset size:',guides_good_bad.shape)"
   ]
  },
  {
   "cell_type": "markdown",
   "metadata": {},
   "source": [
    "# Observe statistics of GUIDE"
   ]
  },
  {
   "cell_type": "markdown",
   "metadata": {},
   "source": [
    "## Good"
   ]
  },
  {
   "cell_type": "code",
   "execution_count": 46,
   "metadata": {
    "ExecuteTime": {
     "end_time": "2020-03-25T01:45:13.866179Z",
     "start_time": "2020-03-25T01:45:13.862061Z"
    }
   },
   "outputs": [],
   "source": [
    "eps = np.finfo(guides_good_bad.dtype).eps\n",
    "distribution = guides_good_bad.sum(axis = 0)"
   ]
  },
  {
   "cell_type": "code",
   "execution_count": 93,
   "metadata": {
    "ExecuteTime": {
     "end_time": "2020-03-25T02:05:36.312935Z",
     "start_time": "2020-03-25T02:05:35.939944Z"
    }
   },
   "outputs": [
    {
     "data": {
      "image/png": "[encoded data removed]",
      "text/plain": [
       "<Figure size 1656x360 with 2 Axes>"
      ]
     },
     "metadata": {
      "needs_background": "light"
     },
     "output_type": "display_data"
    }
   ],
   "source": [
    "input_matrix = guides_good.sum(axis = 0)\n",
    "plt.figure(figsize=(23,5))\n",
    "plt.xticks(fontsize=15)\n",
    "plt.yticks(fontsize=20)\n",
    "sns.heatmap((input_matrix)/input_matrix.sum(axis = 0),\n",
    "            cmap=\"OrRd\",\n",
    "            xticklabels=range(1,23+1),\n",
    "            yticklabels=encoding.keys(),square = True)\n",
    "plt.yticks(rotation=360)\n",
    "plt.savefig(\"good_normal.png\")"
   ]
  },
  {
   "cell_type": "code",
   "execution_count": 97,
   "metadata": {
    "ExecuteTime": {
     "end_time": "2020-03-25T02:11:25.008568Z",
     "start_time": "2020-03-25T02:11:24.630721Z"
    }
   },
   "outputs": [
    {
     "data": {
      "image/png": "[encoded data removed]",
      "text/plain": [
       "<Figure size 1656x360 with 2 Axes>"
      ]
     },
     "metadata": {
      "needs_background": "light"
     },
     "output_type": "display_data"
    }
   ],
   "source": [
    "input_matrix = guides_good.sum(axis = 0)\n",
    "plt.figure(figsize=(23,5))\n",
    "plt.xticks(fontsize=15)\n",
    "plt.yticks(fontsize=20)\n",
    "sns.heatmap((input_matrix-input_matrix.mean(axis = 0))/input_matrix.max(axis = 0),\n",
    "            cmap=\"OrRd\",\n",
    "            xticklabels=range(1,23+1),\n",
    "            yticklabels=encoding.keys(),square = True)\n",
    "plt.yticks(rotation=360)\n",
    "plt.savefig(\"good_view.png\")"
   ]
  },
  {
   "cell_type": "markdown",
   "metadata": {},
   "source": [
    "## Bad"
   ]
  },
  {
   "cell_type": "code",
   "execution_count": 95,
   "metadata": {
    "ExecuteTime": {
     "end_time": "2020-03-25T02:07:18.542604Z",
     "start_time": "2020-03-25T02:07:18.158974Z"
    }
   },
   "outputs": [
    {
     "data": {
      "image/png": "[encoded data removed]",
      "text/plain": [
       "<Figure size 1656x360 with 2 Axes>"
      ]
     },
     "metadata": {
      "needs_background": "light"
     },
     "output_type": "display_data"
    }
   ],
   "source": [
    "input_matrix = guides_bad.sum(axis = 0)\n",
    "plt.figure(figsize=(23,5))\n",
    "plt.xticks(fontsize=15)\n",
    "plt.yticks(fontsize=20)\n",
    "sns.heatmap((input_matrix)/input_matrix.sum(axis = 0),\n",
    "            cmap=\"OrRd\",\n",
    "            xticklabels=range(1,23+1),\n",
    "            yticklabels=encoding.keys(),square = True)\n",
    "plt.yticks(rotation=360)\n",
    "plt.savefig(\"bad_normal.png\")"
   ]
  },
  {
   "cell_type": "code",
   "execution_count": 98,
   "metadata": {
    "ExecuteTime": {
     "end_time": "2020-03-25T02:11:32.256344Z",
     "start_time": "2020-03-25T02:11:31.911039Z"
    }
   },
   "outputs": [
    {
     "data": {
      "image/png": "[encoded data removed]",
      "text/plain": [
       "<Figure size 1656x360 with 2 Axes>"
      ]
     },
     "metadata": {
      "needs_background": "light"
     },
     "output_type": "display_data"
    }
   ],
   "source": [
    "input_matrix = guides_bad.sum(axis = 0)\n",
    "plt.figure(figsize=(23,5))\n",
    "plt.xticks(fontsize=15)\n",
    "plt.yticks(fontsize=20)\n",
    "sns.heatmap((input_matrix-input_matrix.mean(axis = 0))/input_matrix.max(axis = 0),\n",
    "            cmap=\"OrRd\",\n",
    "            xticklabels=range(1,23+1),\n",
    "            yticklabels=encoding.keys(),square = True)\n",
    "plt.yticks(rotation=360)\n",
    "plt.savefig(\"bad_view.png\")"
   ]
  },
  {
   "cell_type": "code",
   "execution_count": null,
   "metadata": {},
   "outputs": [],
   "source": []
  }
 ],
 "metadata": {
  "kernelspec": {
   "display_name": "Python 3",
   "language": "python",
   "name": "python3"
  },
  "language_info": {
   "codemirror_mode": {
    "name": "ipython",
    "version": 3
   },
   "file_extension": ".py",
   "mimetype": "text/x-python",
   "name": "python",
   "nbconvert_exporter": "python",
   "pygments_lexer": "ipython3",
   "version": "3.7.4"
  },
  "latex_envs": {
   "LaTeX_envs_menu_present": true,
   "autoclose": false,
   "autocomplete": true,
   "bibliofile": "biblio.bib",
   "cite_by": "apalike",
   "current_citInitial": 1,
   "eqLabelWithNumbers": true,
   "eqNumInitial": 1,
   "hotkeys": {
    "equation": "Ctrl-E",
    "itemize": "Ctrl-I"
   },
   "labels_anchors": false,
   "latex_user_defs": false,
   "report_style_numbering": false,
   "user_envs_cfg": false
  },
  "toc": {
   "base_numbering": 1,
   "nav_menu": {},
   "number_sections": true,
   "sideBar": true,
   "skip_h1_title": false,
   "title_cell": "Table of Contents",
   "title_sidebar": "Contents",
   "toc_cell": false,
   "toc_position": {},
   "toc_section_display": true,
   "toc_window_display": false
  },
  "varInspector": {
   "cols": {
    "lenName": 16,
    "lenType": 16,
    "lenVar": 40
   },
   "kernels_config": {
    "python": {
     "delete_cmd_postfix": "",
     "delete_cmd_prefix": "del ",
     "library": "var_list.py",
     "varRefreshCmd": "print(var_dic_list())"
    },
    "r": {
     "delete_cmd_postfix": ") ",
     "delete_cmd_prefix": "rm(",
     "library": "var_list.r",
     "varRefreshCmd": "cat(var_dic_list()) "
    }
   },
   "types_to_exclude": [
    "module",
    "function",
    "builtin_function_or_method",
    "instance",
    "_Feature"
   ],
   "window_display": false
  }
 },
 "nbformat": 4,
 "nbformat_minor": 2
}
