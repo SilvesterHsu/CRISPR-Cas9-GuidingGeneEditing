{
 "cells": [
  {
   "cell_type": "markdown",
   "metadata": {},
   "source": [
    "# 0. Install python requirement\n",
    "We also need some additional python packages to process and observe the data"
   ]
  },
  {
   "cell_type": "code",
   "execution_count": 1,
   "metadata": {
    "ExecuteTime": {
     "end_time": "2020-07-13T16:28:42.187783Z",
     "start_time": "2020-07-13T16:28:40.446100Z"
    },
    "scrolled": true
   },
   "outputs": [
    {
     "name": "stdout",
     "output_type": "stream",
     "text": [
      "Requirement already satisfied: pandas in /opt/conda/lib/python3.7/site-packages (1.0.5)\n",
      "Requirement already satisfied: seaborn in /opt/conda/lib/python3.7/site-packages (0.10.1)\n",
      "Requirement already satisfied: pytz>=2017.2 in /opt/conda/lib/python3.7/site-packages (from pandas) (2019.3)\n",
      "Requirement already satisfied: python-dateutil>=2.6.1 in /opt/conda/lib/python3.7/site-packages (from pandas) (2.8.1)\n",
      "Requirement already satisfied: numpy>=1.13.3 in /opt/conda/lib/python3.7/site-packages (from pandas) (1.17.4)\n",
      "Requirement already satisfied: matplotlib>=2.1.2 in /opt/conda/lib/python3.7/site-packages (from seaborn) (3.2.2)\n",
      "Requirement already satisfied: scipy>=1.0.1 in /opt/conda/lib/python3.7/site-packages (from seaborn) (1.5.1)\n",
      "Requirement already satisfied: six>=1.5 in /opt/conda/lib/python3.7/site-packages (from python-dateutil>=2.6.1->pandas) (1.12.0)\n",
      "Requirement already satisfied: kiwisolver>=1.0.1 in /opt/conda/lib/python3.7/site-packages (from matplotlib>=2.1.2->seaborn) (1.2.0)\n",
      "Requirement already satisfied: cycler>=0.10 in /opt/conda/lib/python3.7/site-packages (from matplotlib>=2.1.2->seaborn) (0.10.0)\n",
      "Requirement already satisfied: pyparsing!=2.0.4,!=2.1.2,!=2.1.6,>=2.0.1 in /opt/conda/lib/python3.7/site-packages (from matplotlib>=2.1.2->seaborn) (2.4.7)\n"
     ]
    }
   ],
   "source": [
    "!pip install pandas seaborn"
   ]
  },
  {
   "cell_type": "code",
   "execution_count": 2,
   "metadata": {
    "ExecuteTime": {
     "end_time": "2020-07-13T16:28:43.515198Z",
     "start_time": "2020-07-13T16:28:42.190789Z"
    }
   },
   "outputs": [],
   "source": [
    "import pandas as pd\n",
    "import numpy as np\n",
    "import torch\n",
    "import torch.nn as nn\n",
    "import torch.nn.functional as F\n",
    "import torch.optim as optim\n",
    "from torch.optim import lr_scheduler\n",
    "import numpy as np\n",
    "import torchvision\n",
    "from torchvision import datasets, models, transforms\n",
    "from torch.utils.data import Dataset, DataLoader\n",
    "import matplotlib.pyplot as plt\n",
    "import seaborn as sns"
   ]
  },
  {
   "cell_type": "markdown",
   "metadata": {},
   "source": [
    "# 1. Load Chopchop data"
   ]
  },
  {
   "cell_type": "markdown",
   "metadata": {},
   "source": [
    "Our goal is to simply observe the characteristics of the Guide with high efficiency. Therefore, we only care about'GUIDE' and'EFFICIENCY' at this time."
   ]
  },
  {
   "cell_type": "code",
   "execution_count": 3,
   "metadata": {
    "ExecuteTime": {
     "end_time": "2020-07-13T16:28:43.904702Z",
     "start_time": "2020-07-13T16:28:43.517378Z"
    }
   },
   "outputs": [],
   "source": [
    "data = pd.read_csv('data/danrer11_chopchop_all.csv',index_col=0)[['GUIDE','EFFICIENCY']]"
   ]
  },
  {
   "cell_type": "markdown",
   "metadata": {},
   "source": [
    "View data"
   ]
  },
  {
   "cell_type": "code",
   "execution_count": 4,
   "metadata": {
    "ExecuteTime": {
     "end_time": "2020-07-13T16:28:43.940390Z",
     "start_time": "2020-07-13T16:28:43.920582Z"
    }
   },
   "outputs": [
    {
     "data": {
      "text/html": [
       "<div>\n",
       "<style scoped>\n",
       "    .dataframe tbody tr th:only-of-type {\n",
       "        vertical-align: middle;\n",
       "    }\n",
       "\n",
       "    .dataframe tbody tr th {\n",
       "        vertical-align: top;\n",
       "    }\n",
       "\n",
       "    .dataframe thead th {\n",
       "        text-align: right;\n",
       "    }\n",
       "</style>\n",
       "<table border=\"1\" class=\"dataframe\">\n",
       "  <thead>\n",
       "    <tr style=\"text-align: right;\">\n",
       "      <th></th>\n",
       "      <th>GUIDE</th>\n",
       "      <th>EFFICIENCY</th>\n",
       "    </tr>\n",
       "  </thead>\n",
       "  <tbody>\n",
       "    <tr>\n",
       "      <th>0</th>\n",
       "      <td>CGATGTTGGGAAACTTGGGTAGG</td>\n",
       "      <td>70.94</td>\n",
       "    </tr>\n",
       "    <tr>\n",
       "      <th>1</th>\n",
       "      <td>GATGAATGAGGAACGCGCAGCGG</td>\n",
       "      <td>64.36</td>\n",
       "    </tr>\n",
       "    <tr>\n",
       "      <th>2</th>\n",
       "      <td>TCAATTCATTATTCACGCGGAGG</td>\n",
       "      <td>59.94</td>\n",
       "    </tr>\n",
       "    <tr>\n",
       "      <th>3</th>\n",
       "      <td>ACGCGTCTTGAGCACTCGCTGGG</td>\n",
       "      <td>51.73</td>\n",
       "    </tr>\n",
       "    <tr>\n",
       "      <th>4</th>\n",
       "      <td>AAGATCGATGTTGGGAAACTTGG</td>\n",
       "      <td>38.63</td>\n",
       "    </tr>\n",
       "  </tbody>\n",
       "</table>\n",
       "</div>"
      ],
      "text/plain": [
       "                     GUIDE  EFFICIENCY\n",
       "0  CGATGTTGGGAAACTTGGGTAGG       70.94\n",
       "1  GATGAATGAGGAACGCGCAGCGG       64.36\n",
       "2  TCAATTCATTATTCACGCGGAGG       59.94\n",
       "3  ACGCGTCTTGAGCACTCGCTGGG       51.73\n",
       "4  AAGATCGATGTTGGGAAACTTGG       38.63"
      ]
     },
     "execution_count": 4,
     "metadata": {},
     "output_type": "execute_result"
    }
   ],
   "source": [
    "data.head(5)"
   ]
  },
  {
   "cell_type": "markdown",
   "metadata": {},
   "source": [
    "# 2. Filter out Good and Bad data"
   ]
  },
  {
   "cell_type": "markdown",
   "metadata": {},
   "source": [
    "In order to distinguish good from bad, we set a 50% threshold for the efficiency."
   ]
  },
  {
   "cell_type": "code",
   "execution_count": 5,
   "metadata": {
    "ExecuteTime": {
     "end_time": "2020-07-13T16:28:43.971847Z",
     "start_time": "2020-07-13T16:28:43.942249Z"
    }
   },
   "outputs": [],
   "source": [
    "# Set the threshold\n",
    "threshold = 50\n",
    "# Filter out good and bad data\n",
    "data_good = data[data['EFFICIENCY'] > threshold]\n",
    "data_bad = data[data['EFFICIENCY'] <= threshold]"
   ]
  },
  {
   "cell_type": "code",
   "execution_count": 6,
   "metadata": {
    "ExecuteTime": {
     "end_time": "2020-07-13T16:28:43.983301Z",
     "start_time": "2020-07-13T16:28:43.973799Z"
    },
    "cell_style": "split",
    "scrolled": true
   },
   "outputs": [
    {
     "data": {
      "text/html": [
       "<div>\n",
       "<style scoped>\n",
       "    .dataframe tbody tr th:only-of-type {\n",
       "        vertical-align: middle;\n",
       "    }\n",
       "\n",
       "    .dataframe tbody tr th {\n",
       "        vertical-align: top;\n",
       "    }\n",
       "\n",
       "    .dataframe thead th {\n",
       "        text-align: right;\n",
       "    }\n",
       "</style>\n",
       "<table border=\"1\" class=\"dataframe\">\n",
       "  <thead>\n",
       "    <tr style=\"text-align: right;\">\n",
       "      <th></th>\n",
       "      <th>GUIDE</th>\n",
       "      <th>EFFICIENCY</th>\n",
       "    </tr>\n",
       "  </thead>\n",
       "  <tbody>\n",
       "    <tr>\n",
       "      <th>0</th>\n",
       "      <td>CGATGTTGGGAAACTTGGGTAGG</td>\n",
       "      <td>70.94</td>\n",
       "    </tr>\n",
       "    <tr>\n",
       "      <th>1</th>\n",
       "      <td>GATGAATGAGGAACGCGCAGCGG</td>\n",
       "      <td>64.36</td>\n",
       "    </tr>\n",
       "    <tr>\n",
       "      <th>2</th>\n",
       "      <td>TCAATTCATTATTCACGCGGAGG</td>\n",
       "      <td>59.94</td>\n",
       "    </tr>\n",
       "    <tr>\n",
       "      <th>3</th>\n",
       "      <td>ACGCGTCTTGAGCACTCGCTGGG</td>\n",
       "      <td>51.73</td>\n",
       "    </tr>\n",
       "    <tr>\n",
       "      <th>6</th>\n",
       "      <td>CACGCGCACGGAGATGAATGAGG</td>\n",
       "      <td>63.35</td>\n",
       "    </tr>\n",
       "  </tbody>\n",
       "</table>\n",
       "</div>"
      ],
      "text/plain": [
       "                     GUIDE  EFFICIENCY\n",
       "0  CGATGTTGGGAAACTTGGGTAGG       70.94\n",
       "1  GATGAATGAGGAACGCGCAGCGG       64.36\n",
       "2  TCAATTCATTATTCACGCGGAGG       59.94\n",
       "3  ACGCGTCTTGAGCACTCGCTGGG       51.73\n",
       "6  CACGCGCACGGAGATGAATGAGG       63.35"
      ]
     },
     "execution_count": 6,
     "metadata": {},
     "output_type": "execute_result"
    }
   ],
   "source": [
    "# Data with high efficiency\n",
    "data_good.head(5)"
   ]
  },
  {
   "cell_type": "code",
   "execution_count": 7,
   "metadata": {
    "ExecuteTime": {
     "end_time": "2020-07-13T16:28:43.997280Z",
     "start_time": "2020-07-13T16:28:43.985234Z"
    },
    "cell_style": "split",
    "scrolled": true
   },
   "outputs": [
    {
     "data": {
      "text/html": [
       "<div>\n",
       "<style scoped>\n",
       "    .dataframe tbody tr th:only-of-type {\n",
       "        vertical-align: middle;\n",
       "    }\n",
       "\n",
       "    .dataframe tbody tr th {\n",
       "        vertical-align: top;\n",
       "    }\n",
       "\n",
       "    .dataframe thead th {\n",
       "        text-align: right;\n",
       "    }\n",
       "</style>\n",
       "<table border=\"1\" class=\"dataframe\">\n",
       "  <thead>\n",
       "    <tr style=\"text-align: right;\">\n",
       "      <th></th>\n",
       "      <th>GUIDE</th>\n",
       "      <th>EFFICIENCY</th>\n",
       "    </tr>\n",
       "  </thead>\n",
       "  <tbody>\n",
       "    <tr>\n",
       "      <th>4</th>\n",
       "      <td>AAGATCGATGTTGGGAAACTTGG</td>\n",
       "      <td>38.63</td>\n",
       "    </tr>\n",
       "    <tr>\n",
       "      <th>5</th>\n",
       "      <td>GACTCAAAAGCGCTACTTACTGG</td>\n",
       "      <td>35.21</td>\n",
       "    </tr>\n",
       "    <tr>\n",
       "      <th>11</th>\n",
       "      <td>ACCTCGACTCATACACATTCAGG</td>\n",
       "      <td>41.25</td>\n",
       "    </tr>\n",
       "    <tr>\n",
       "      <th>15</th>\n",
       "      <td>AACGCGTCTTGAGCACTCGCTGG</td>\n",
       "      <td>38.80</td>\n",
       "    </tr>\n",
       "    <tr>\n",
       "      <th>21</th>\n",
       "      <td>CATACACATTCAGGATACATTGG</td>\n",
       "      <td>45.37</td>\n",
       "    </tr>\n",
       "  </tbody>\n",
       "</table>\n",
       "</div>"
      ],
      "text/plain": [
       "                      GUIDE  EFFICIENCY\n",
       "4   AAGATCGATGTTGGGAAACTTGG       38.63\n",
       "5   GACTCAAAAGCGCTACTTACTGG       35.21\n",
       "11  ACCTCGACTCATACACATTCAGG       41.25\n",
       "15  AACGCGTCTTGAGCACTCGCTGG       38.80\n",
       "21  CATACACATTCAGGATACATTGG       45.37"
      ]
     },
     "execution_count": 7,
     "metadata": {},
     "output_type": "execute_result"
    }
   ],
   "source": [
    "# Data with low efficiency\n",
    "data_bad.head(5)"
   ]
  },
  {
   "cell_type": "markdown",
   "metadata": {},
   "source": [
    "# 3. Transform Data"
   ]
  },
  {
   "cell_type": "markdown",
   "metadata": {},
   "source": [
    "## One-hot encoding"
   ]
  },
  {
   "cell_type": "code",
   "execution_count": 8,
   "metadata": {
    "ExecuteTime": {
     "end_time": "2020-07-13T16:28:59.225905Z",
     "start_time": "2020-07-13T16:28:43.999287Z"
    }
   },
   "outputs": [
    {
     "name": "stdout",
     "output_type": "stream",
     "text": [
      "Good dataset size: (159936, 4, 23)\n",
      "Bad dataset size: (123090, 4, 23)\n",
      "All dataset size: (283026, 4, 23)\n"
     ]
    }
   ],
   "source": [
    "encoding = {'A':np.array([1,0,0,0]),\n",
    "            'C':np.array([0,1,0,0]),\n",
    "            'G':np.array([0,0,1,0]),\n",
    "            'T':np.array([0,0,0,1])}\n",
    "\n",
    "def one_hot(guide,encoding):\n",
    "    data = np.zeros((4,len(guide)))\n",
    "    assert data.shape == (4,23)\n",
    "    for i in range(data.shape[-1]):\n",
    "        data[:,i] = encoding[guide[i]]\n",
    "    return data\n",
    "\n",
    "#print(one_hot('CTGATCACGGCTGAAGGACTCGG',encoding))\n",
    "\n",
    "def batch_one_hot(data,encoding):\n",
    "    guides = np.zeros((len(data),4,23))\n",
    "    i=0\n",
    "    for guide in data['GUIDE']:\n",
    "        guides[i] = one_hot(guide,encoding)\n",
    "        i+=1\n",
    "    return guides\n",
    "\n",
    "guides_good = batch_one_hot(data_good,encoding)\n",
    "guides_bad = batch_one_hot(data_bad,encoding)\n",
    "guides = batch_one_hot(data,encoding)\n",
    "print('Good dataset size:',guides_good.shape)\n",
    "print('Bad dataset size:',guides_bad.shape)\n",
    "print('All dataset size:',guides.shape)"
   ]
  },
  {
   "cell_type": "markdown",
   "metadata": {},
   "source": [
    "# Observe statistics of GUIDE"
   ]
  },
  {
   "cell_type": "markdown",
   "metadata": {},
   "source": [
    "## High Efficiency\n",
    "\n",
    "Probability distribution for all 23 positions.\n",
    "\n",
    "The colour refers to the probability. Specifically, white indicates a probability of 0, and dark red indicates a probability of 1.\n",
    "\n",
    "For example, the 22 and 23 positions in the figure are dark red on the G row, which means that most of the guide has G (Guanine) at the 22 and 23 positions."
   ]
  },
  {
   "cell_type": "code",
   "execution_count": 9,
   "metadata": {
    "ExecuteTime": {
     "end_time": "2020-07-13T16:28:59.806712Z",
     "start_time": "2020-07-13T16:28:59.228298Z"
    }
   },
   "outputs": [
    {
     "data": {
      "image/png": "[encoded data removed]",
      "text/plain": [
       "<Figure size 1656x360 with 2 Axes>"
      ]
     },
     "metadata": {
      "needs_background": "light"
     },
     "output_type": "display_data"
    }
   ],
   "source": [
    "input_matrix = guides_good.sum(axis = 0)\n",
    "plt.figure(figsize=(23,5))\n",
    "plt.xticks(fontsize=15)\n",
    "plt.yticks(fontsize=20)\n",
    "sns.heatmap((input_matrix)/input_matrix.sum(axis = 0),\n",
    "            cmap=\"OrRd\",\n",
    "            xticklabels=range(1,23+1),\n",
    "            yticklabels=encoding.keys(),square = True)\n",
    "plt.yticks(rotation=360)\n",
    "plt.savefig(\"good_normal.png\")"
   ]
  },
  {
   "cell_type": "markdown",
   "metadata": {},
   "source": [
    "We can scale the probability for a better view. Therefore, the color does not strictly represent the probability. But color still has a positive correlation with probability."
   ]
  },
  {
   "cell_type": "code",
   "execution_count": 10,
   "metadata": {
    "ExecuteTime": {
     "end_time": "2020-07-13T16:29:00.287888Z",
     "start_time": "2020-07-13T16:28:59.808348Z"
    }
   },
   "outputs": [
    {
     "data": {
      "image/png": "[encoded data removed]",
      "text/plain": [
       "<Figure size 1656x360 with 2 Axes>"
      ]
     },
     "metadata": {
      "needs_background": "light"
     },
     "output_type": "display_data"
    }
   ],
   "source": [
    "input_matrix = guides_good.sum(axis = 0)\n",
    "plt.figure(figsize=(23,5))\n",
    "plt.xticks(fontsize=15)\n",
    "plt.yticks(fontsize=20)\n",
    "sns.heatmap((input_matrix-input_matrix.mean(axis = 0))/input_matrix.max(axis = 0),\n",
    "            cmap=\"OrRd\",\n",
    "            xticklabels=range(1,23+1),\n",
    "            yticklabels=encoding.keys(),square = True)\n",
    "plt.yticks(rotation=360)\n",
    "plt.savefig(\"good_view.png\")"
   ]
  },
  {
   "cell_type": "markdown",
   "metadata": {},
   "source": [
    "## Bad"
   ]
  },
  {
   "cell_type": "markdown",
   "metadata": {},
   "source": [
    "Probability distribution for all 23 positions."
   ]
  },
  {
   "cell_type": "code",
   "execution_count": 11,
   "metadata": {
    "ExecuteTime": {
     "end_time": "2020-07-13T16:29:00.852231Z",
     "start_time": "2020-07-13T16:29:00.290416Z"
    }
   },
   "outputs": [
    {
     "data": {
      "image/png": "[encoded data removed]",
      "text/plain": [
       "<Figure size 1656x360 with 2 Axes>"
      ]
     },
     "metadata": {
      "needs_background": "light"
     },
     "output_type": "display_data"
    }
   ],
   "source": [
    "input_matrix = guides_bad.sum(axis = 0)\n",
    "plt.figure(figsize=(23,5))\n",
    "plt.xticks(fontsize=15)\n",
    "plt.yticks(fontsize=20)\n",
    "sns.heatmap((input_matrix)/input_matrix.sum(axis = 0),\n",
    "            cmap=\"OrRd\",\n",
    "            xticklabels=range(1,23+1),\n",
    "            yticklabels=encoding.keys(),square = True)\n",
    "plt.yticks(rotation=360)\n",
    "plt.savefig(\"bad_normal.png\")"
   ]
  },
  {
   "cell_type": "markdown",
   "metadata": {},
   "source": [
    "We can scale the probability for a better view. Therefore, the color does not strictly represent the probability. But color still has a positive correlation with probability."
   ]
  },
  {
   "cell_type": "code",
   "execution_count": 12,
   "metadata": {
    "ExecuteTime": {
     "end_time": "2020-07-13T16:29:01.432462Z",
     "start_time": "2020-07-13T16:29:00.853645Z"
    }
   },
   "outputs": [
    {
     "data": {
      "image/png": "[encoded data removed]",
      "text/plain": [
       "<Figure size 1656x360 with 2 Axes>"
      ]
     },
     "metadata": {
      "needs_background": "light"
     },
     "output_type": "display_data"
    }
   ],
   "source": [
    "input_matrix = guides_bad.sum(axis = 0)\n",
    "plt.figure(figsize=(23,5))\n",
    "plt.xticks(fontsize=15)\n",
    "plt.yticks(fontsize=20)\n",
    "sns.heatmap((input_matrix-input_matrix.mean(axis = 0))/input_matrix.max(axis = 0),\n",
    "            cmap=\"OrRd\",\n",
    "            xticklabels=range(1,23+1),\n",
    "            yticklabels=encoding.keys(),square = True)\n",
    "plt.yticks(rotation=360)\n",
    "plt.savefig(\"bad_view.png\")"
   ]
  },
  {
   "cell_type": "code",
   "execution_count": null,
   "metadata": {},
   "outputs": [],
   "source": []
  }
 ],
 "metadata": {
  "kernelspec": {
   "display_name": "Python 3",
   "language": "python",
   "name": "python3"
  },
  "language_info": {
   "codemirror_mode": {
    "name": "ipython",
    "version": 3
   },
   "file_extension": ".py",
   "mimetype": "text/x-python",
   "name": "python",
   "nbconvert_exporter": "python",
   "pygments_lexer": "ipython3",
   "version": "3.7.4"
  },
  "latex_envs": {
   "LaTeX_envs_menu_present": true,
   "autoclose": false,
   "autocomplete": true,
   "bibliofile": "biblio.bib",
   "cite_by": "apalike",
   "current_citInitial": 1,
   "eqLabelWithNumbers": true,
   "eqNumInitial": 1,
   "hotkeys": {
    "equation": "Ctrl-E",
    "itemize": "Ctrl-I"
   },
   "labels_anchors": false,
   "latex_user_defs": false,
   "report_style_numbering": false,
   "user_envs_cfg": false
  },
  "toc": {
   "base_numbering": 1,
   "nav_menu": {},
   "number_sections": true,
   "sideBar": true,
   "skip_h1_title": false,
   "title_cell": "Table of Contents",
   "title_sidebar": "Contents",
   "toc_cell": false,
   "toc_position": {},
   "toc_section_display": true,
   "toc_window_display": false
  },
  "varInspector": {
   "cols": {
    "lenName": 16,
    "lenType": 16,
    "lenVar": 40
   },
   "kernels_config": {
    "python": {
     "delete_cmd_postfix": "",
     "delete_cmd_prefix": "del ",
     "library": "var_list.py",
     "varRefreshCmd": "print(var_dic_list())"
    },
    "r": {
     "delete_cmd_postfix": ") ",
     "delete_cmd_prefix": "rm(",
     "library": "var_list.r",
     "varRefreshCmd": "cat(var_dic_list()) "
    }
   },
   "types_to_exclude": [
    "module",
    "function",
    "builtin_function_or_method",
    "instance",
    "_Feature"
   ],
   "window_display": false
  }
 },
 "nbformat": 4,
 "nbformat_minor": 2
}
