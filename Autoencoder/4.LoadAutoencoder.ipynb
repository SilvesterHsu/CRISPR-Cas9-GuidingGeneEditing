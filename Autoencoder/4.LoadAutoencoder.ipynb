{
 "cells": [
  {
   "cell_type": "code",
   "execution_count": 18,
   "metadata": {
    "ExecuteTime": {
     "end_time": "2020-04-15T17:29:07.130954Z",
     "start_time": "2020-04-15T17:29:07.123649Z"
    }
   },
   "outputs": [],
   "source": [
    "import pandas as pd\n",
    "import numpy as np\n",
    "import torch\n",
    "import torch.nn as nn\n",
    "import torch.nn.functional as F\n",
    "import torch.optim as optim\n",
    "from torch.optim import lr_scheduler\n",
    "import numpy as np\n",
    "import torchvision\n",
    "from torchvision import datasets, models, transforms\n",
    "from torch.utils.data import Dataset, DataLoader\n",
    "import matplotlib.pyplot as plt\n",
    "import seaborn as sns"
   ]
  },
  {
   "cell_type": "markdown",
   "metadata": {},
   "source": [
    "# Load data"
   ]
  },
  {
   "cell_type": "code",
   "execution_count": 19,
   "metadata": {
    "ExecuteTime": {
     "end_time": "2020-04-15T17:29:09.220427Z",
     "start_time": "2020-04-15T17:29:08.964432Z"
    }
   },
   "outputs": [],
   "source": [
    "data_train = pd.read_csv('data/danrer11_chopchop_train.csv',index_col=0)\n",
    "data_test = pd.read_csv('data/danrer11_chopchop_test.csv',index_col=0)"
   ]
  },
  {
   "cell_type": "markdown",
   "metadata": {},
   "source": [
    "# Transform Data\n",
    "## One-hot encoding"
   ]
  },
  {
   "cell_type": "code",
   "execution_count": 20,
   "metadata": {
    "ExecuteTime": {
     "end_time": "2020-04-15T17:29:14.953865Z",
     "start_time": "2020-04-15T17:29:10.500645Z"
    }
   },
   "outputs": [
    {
     "name": "stdout",
     "output_type": "stream",
     "text": [
      "Train dataset size: (226420, 4, 23)\n",
      "Test dataset size: (56606, 4, 23)\n"
     ]
    }
   ],
   "source": [
    "encoding = {'A':np.array([1,0,0,0]),\n",
    "            'C':np.array([0,1,0,0]),\n",
    "            'G':np.array([0,0,1,0]),\n",
    "            'T':np.array([0,0,0,1])}\n",
    "\n",
    "def one_hot(guide,encoding):\n",
    "    data = np.zeros((4,len(guide)))\n",
    "    assert data.shape == (4,23)\n",
    "    for i in range(data.shape[-1]):\n",
    "        data[:,i] = encoding[guide[i]]\n",
    "    return data\n",
    "\n",
    "#print(one_hot('CTGATCACGGCTGAAGGACTCGG',encoding))\n",
    "\n",
    "def batch_one_hot(data,encoding):\n",
    "    guides = np.zeros((len(data),4,23))\n",
    "    i=0\n",
    "    for guide in data['GUIDE']:\n",
    "        guides[i] = one_hot(guide,encoding)\n",
    "        i+=1\n",
    "    return guides\n",
    "\n",
    "guides_train = batch_one_hot(data_train,encoding)\n",
    "guides_test = batch_one_hot(data_test,encoding)\n",
    "print('Train dataset size:',guides_train.shape)\n",
    "print('Test dataset size:',guides_test.shape)"
   ]
  },
  {
   "cell_type": "markdown",
   "metadata": {},
   "source": [
    "## `Pytorch` data format"
   ]
  },
  {
   "cell_type": "code",
   "execution_count": 29,
   "metadata": {
    "ExecuteTime": {
     "end_time": "2020-04-15T17:30:21.903809Z",
     "start_time": "2020-04-15T17:30:21.875715Z"
    }
   },
   "outputs": [],
   "source": [
    "class GGEDataset(Dataset):\n",
    "\n",
    "    def __init__(self, data, transform=None):\n",
    "        self.data = data\n",
    "        self.transform = transform\n",
    "\n",
    "    def __len__(self):\n",
    "        return len(self.data)\n",
    "\n",
    "    def __getitem__(self, idx):\n",
    "        if torch.is_tensor(idx):\n",
    "            idx = idx.tolist()\n",
    "            \n",
    "        sample = self.data[idx]\n",
    "        if self.transform:\n",
    "            sample = self.transform(sample)\n",
    "\n",
    "        return sample.float()\n",
    "    \n",
    "transform = transforms.Compose([\n",
    "        transforms.ToTensor()\n",
    "    ])\n",
    "GGE_dataset_train = GGEDataset(data = guides_train, transform = transform)\n",
    "GGE_dataset_test = GGEDataset(data = guides_test, transform = transform)\n",
    "\n",
    "trainloader = torch.utils.data.DataLoader(GGE_dataset_train, batch_size=50000,shuffle=True, num_workers=12)\n",
    "testloader = torch.utils.data.DataLoader(GGE_dataset_test, batch_size=50000,shuffle=True, num_workers=12)"
   ]
  },
  {
   "cell_type": "markdown",
   "metadata": {},
   "source": [
    "# Create Autoencoder"
   ]
  },
  {
   "cell_type": "code",
   "execution_count": 30,
   "metadata": {
    "ExecuteTime": {
     "end_time": "2020-04-15T17:30:32.433205Z",
     "start_time": "2020-04-15T17:30:32.421931Z"
    }
   },
   "outputs": [],
   "source": [
    "class Autoencoder(nn.Module):\n",
    "    def __init__(self):\n",
    "        super(Autoencoder, self).__init__()\n",
    "\n",
    "        self.encoder = nn.Sequential(\n",
    "            nn.Linear(92, 60),\n",
    "            nn.ReLU(),\n",
    "            nn.Linear(60, 40),\n",
    "            nn.ReLU(),\n",
    "            nn.Linear(40, 30)\n",
    "        )\n",
    "        self.decoder = nn.Sequential(\n",
    "            nn.Linear(30, 40),\n",
    "            nn.ReLU(),\n",
    "            nn.Linear(40, 60),\n",
    "            nn.ReLU(),\n",
    "            nn.Linear(60, 92),\n",
    "            nn.Sigmoid()\n",
    "        )\n",
    "        \n",
    "        self.conv1 = nn.Conv2d(1, 6, 2)\n",
    "        self.pool1 = nn.MaxPool2d(2, 2)\n",
    "        self.conv2 = nn.ConvTranspose2d(6, 1, 2)\n",
    "        self.pool2 =nn.MaxUnpool2d(2, 2)\n",
    "\n",
    "    def forward(self, x):\n",
    "        x = x.view(-1,1*4*23)\n",
    "        x = self.encoder(x)\n",
    "        x = self.decoder(x)\n",
    "        x = x.view(-1,1,4,23)\n",
    "\n",
    "        return x"
   ]
  },
  {
   "cell_type": "code",
   "execution_count": 31,
   "metadata": {
    "ExecuteTime": {
     "end_time": "2020-04-15T17:30:50.862891Z",
     "start_time": "2020-04-15T17:30:50.856729Z"
    }
   },
   "outputs": [
    {
     "data": {
      "text/plain": [
       "device(type='cuda', index=0)"
      ]
     },
     "execution_count": 31,
     "metadata": {},
     "output_type": "execute_result"
    }
   ],
   "source": [
    "device = torch.device(\"cuda:0\" if torch.cuda.is_available() else \"cpu\")\n",
    "device"
   ]
  },
  {
   "cell_type": "code",
   "execution_count": 32,
   "metadata": {
    "ExecuteTime": {
     "end_time": "2020-04-15T17:30:54.766467Z",
     "start_time": "2020-04-15T17:30:54.744482Z"
    }
   },
   "outputs": [],
   "source": [
    "net = Autoencoder().to(device)"
   ]
  },
  {
   "cell_type": "markdown",
   "metadata": {},
   "source": [
    "## Load model"
   ]
  },
  {
   "cell_type": "code",
   "execution_count": 33,
   "metadata": {
    "ExecuteTime": {
     "end_time": "2020-04-15T17:30:58.747124Z",
     "start_time": "2020-04-15T17:30:58.738679Z"
    }
   },
   "outputs": [
    {
     "data": {
      "text/plain": [
       "<All keys matched successfully>"
      ]
     },
     "execution_count": 33,
     "metadata": {},
     "output_type": "execute_result"
    }
   ],
   "source": [
    "checkpoint = torch.load('model/autoencoder.pth.tar')\n",
    "net.load_state_dict(checkpoint['state_dict'])"
   ]
  },
  {
   "cell_type": "markdown",
   "metadata": {},
   "source": [
    "# Testing Data"
   ]
  },
  {
   "cell_type": "code",
   "execution_count": 34,
   "metadata": {
    "ExecuteTime": {
     "end_time": "2020-04-15T17:31:28.462121Z",
     "start_time": "2020-04-15T17:31:01.605778Z"
    }
   },
   "outputs": [
    {
     "name": "stdout",
     "output_type": "stream",
     "text": [
      "Testing Accuracy: 91.33845083252812%\n"
     ]
    }
   ],
   "source": [
    "with torch.no_grad():\n",
    "    correct = 0\n",
    "    for data in testloader:\n",
    "        outputs = net(data.to(device)).to('cpu')\n",
    "        i = 0\n",
    "        for s in outputs:\n",
    "            outputs[i] = F.one_hot(torch.argmax(s[0,:,:],axis = 0),num_classes=4).T\n",
    "            i += 1\n",
    "        \n",
    "        for i in range(len(data)):\n",
    "            for j in range(23):\n",
    "                if outputs[i][:,:,j].int().equal(data[i][:,:,j].int()):\n",
    "                    correct += 1\n",
    "    accuracy = correct/len(testloader.dataset)/23\n",
    "    print('Testing Accuracy: {}%'.format(accuracy*100))"
   ]
  },
  {
   "cell_type": "markdown",
   "metadata": {},
   "source": [
    "# Extract features\n",
    "From 92 dimension to 30 dimension, while `50000` is the batch size."
   ]
  },
  {
   "cell_type": "code",
   "execution_count": 43,
   "metadata": {
    "ExecuteTime": {
     "end_time": "2020-04-15T17:38:56.274491Z",
     "start_time": "2020-04-15T17:38:55.209114Z"
    }
   },
   "outputs": [
    {
     "name": "stdout",
     "output_type": "stream",
     "text": [
      "Data shape: torch.Size([50000, 30])\n"
     ]
    },
    {
     "data": {
      "text/plain": [
       "tensor([[-0.4642,  8.1225,  1.1612,  ..., -1.5633, -9.9387,  3.5303],\n",
       "        [ 4.1952,  6.7439, -9.7511,  ...,  8.5822,  2.8152,  7.8830],\n",
       "        [10.4661,  3.6456,  2.6252,  ...,  1.0471, -8.0809,  2.0523],\n",
       "        ...,\n",
       "        [ 6.9700, -1.1418, -5.6706,  ...,  0.5899, 10.4342,  1.7868],\n",
       "        [ 1.5521, -1.3733, -8.8301,  ...,  6.7905,  1.7564,  5.2488],\n",
       "        [ 2.3361,  1.9210, -3.6909,  ..., -1.2125, -8.0576,  1.9304]])"
      ]
     },
     "execution_count": 43,
     "metadata": {},
     "output_type": "execute_result"
    }
   ],
   "source": [
    "with torch.no_grad():\n",
    "    for data in testloader:\n",
    "        outputs = net.encoder(data.view(-1,1*4*23).to(device)).to('cpu')\n",
    "        break\n",
    "print(\"Data shape: {}\".format(outputs.shape))\n",
    "outputs"
   ]
  }
 ],
 "metadata": {
  "kernelspec": {
   "display_name": "Python 3",
   "language": "python",
   "name": "python3"
  },
  "language_info": {
   "codemirror_mode": {
    "name": "ipython",
    "version": 3
   },
   "file_extension": ".py",
   "mimetype": "text/x-python",
   "name": "python",
   "nbconvert_exporter": "python",
   "pygments_lexer": "ipython3",
   "version": "3.7.4"
  },
  "latex_envs": {
   "LaTeX_envs_menu_present": true,
   "autoclose": false,
   "autocomplete": true,
   "bibliofile": "biblio.bib",
   "cite_by": "apalike",
   "current_citInitial": 1,
   "eqLabelWithNumbers": true,
   "eqNumInitial": 1,
   "hotkeys": {
    "equation": "Ctrl-E",
    "itemize": "Ctrl-I"
   },
   "labels_anchors": false,
   "latex_user_defs": false,
   "report_style_numbering": false,
   "user_envs_cfg": false
  }
 },
 "nbformat": 4,
 "nbformat_minor": 4
}
